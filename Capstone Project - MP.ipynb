{
  "nbformat": 4,
  "nbformat_minor": 0,
  "metadata": {
    "colab": {
      "provenance": [],
      "machine_shape": "hm"
    },
    "kernelspec": {
      "name": "python3",
      "display_name": "Python 3"
    },
    "language_info": {
      "name": "python"
    },
    "gpuClass": "standard"
  },
  "cells": [
    {
      "cell_type": "code",
      "source": [
        "pip install catboost"
      ],
      "metadata": {
        "colab": {
          "base_uri": "https://localhost:8080/"
        },
        "id": "E5VhGRH44ZU1",
        "outputId": "cf015a73-d079-4ee3-d78a-61a0c7500437"
      },
      "execution_count": 5,
      "outputs": [
        {
          "output_type": "stream",
          "name": "stdout",
          "text": [
            "Looking in indexes: https://pypi.org/simple, https://us-python.pkg.dev/colab-wheels/public/simple/\n",
            "Requirement already satisfied: catboost in /usr/local/lib/python3.10/dist-packages (1.2)\n",
            "Requirement already satisfied: graphviz in /usr/local/lib/python3.10/dist-packages (from catboost) (0.20.1)\n",
            "Requirement already satisfied: matplotlib in /usr/local/lib/python3.10/dist-packages (from catboost) (3.7.1)\n",
            "Requirement already satisfied: numpy>=1.16.0 in /usr/local/lib/python3.10/dist-packages (from catboost) (1.22.4)\n",
            "Requirement already satisfied: pandas>=0.24 in /usr/local/lib/python3.10/dist-packages (from catboost) (1.5.3)\n",
            "Requirement already satisfied: scipy in /usr/local/lib/python3.10/dist-packages (from catboost) (1.10.1)\n",
            "Requirement already satisfied: plotly in /usr/local/lib/python3.10/dist-packages (from catboost) (5.13.1)\n",
            "Requirement already satisfied: six in /usr/local/lib/python3.10/dist-packages (from catboost) (1.16.0)\n",
            "Requirement already satisfied: python-dateutil>=2.8.1 in /usr/local/lib/python3.10/dist-packages (from pandas>=0.24->catboost) (2.8.2)\n",
            "Requirement already satisfied: pytz>=2020.1 in /usr/local/lib/python3.10/dist-packages (from pandas>=0.24->catboost) (2022.7.1)\n",
            "Requirement already satisfied: contourpy>=1.0.1 in /usr/local/lib/python3.10/dist-packages (from matplotlib->catboost) (1.0.7)\n",
            "Requirement already satisfied: cycler>=0.10 in /usr/local/lib/python3.10/dist-packages (from matplotlib->catboost) (0.11.0)\n",
            "Requirement already satisfied: fonttools>=4.22.0 in /usr/local/lib/python3.10/dist-packages (from matplotlib->catboost) (4.39.3)\n",
            "Requirement already satisfied: kiwisolver>=1.0.1 in /usr/local/lib/python3.10/dist-packages (from matplotlib->catboost) (1.4.4)\n",
            "Requirement already satisfied: packaging>=20.0 in /usr/local/lib/python3.10/dist-packages (from matplotlib->catboost) (23.1)\n",
            "Requirement already satisfied: pillow>=6.2.0 in /usr/local/lib/python3.10/dist-packages (from matplotlib->catboost) (8.4.0)\n",
            "Requirement already satisfied: pyparsing>=2.3.1 in /usr/local/lib/python3.10/dist-packages (from matplotlib->catboost) (3.0.9)\n",
            "Requirement already satisfied: tenacity>=6.2.0 in /usr/local/lib/python3.10/dist-packages (from plotly->catboost) (8.2.2)\n"
          ]
        }
      ]
    },
    {
      "cell_type": "code",
      "execution_count": 6,
      "metadata": {
        "id": "HiZ5kl6yJuyz"
      },
      "outputs": [],
      "source": [
        "# Import required libraries\n",
        "\n",
        "import pandas as pd\n",
        "import matplotlib.pyplot as plt\n",
        "from imblearn.over_sampling import SMOTENC, SMOTE\n",
        "import numpy as np\n",
        "import seaborn as sns\n",
        "from sklearn.ensemble import RandomForestClassifier\n",
        "from sklearn.metrics import accuracy_score, classification_report\n",
        "from sklearn.neighbors import KNeighborsClassifier\n",
        "from sklearn.tree import DecisionTreeClassifier\n",
        "from sklearn.linear_model import LogisticRegression\n",
        "from sklearn.svm import SVC\n",
        "from sklearn.model_selection import GridSearchCV, train_test_split\n",
        "from sklearn.pipeline import Pipeline\n",
        "\n",
        "# from xgboost import XGBClassifier\n",
        "from catboost import CatBoostClassifier\n",
        "\n",
        "import warnings\n",
        "\n",
        "warnings.filterwarnings(\"ignore\")"
      ]
    },
    {
      "cell_type": "markdown",
      "source": [
        "### Import Required Data from NHANES - National Health And Nutrition Examination Survey sites\n"
      ],
      "metadata": {
        "id": "yYIJdZgGuyPT"
      }
    },
    {
      "cell_type": "code",
      "source": [
        "# Demographic Data\n",
        "df_demo = pd.read_sas('https://wwwn.cdc.gov/Nchs/Nhanes/2017-2018/P_DEMO.XPT')"
      ],
      "metadata": {
        "id": "D5W94Ux108fU"
      },
      "execution_count": 7,
      "outputs": []
    },
    {
      "cell_type": "code",
      "source": [
        "df_demo"
      ],
      "metadata": {
        "colab": {
          "base_uri": "https://localhost:8080/",
          "height": 488
        },
        "id": "DzMZHRNt1BU9",
        "outputId": "253b8ffc-b1fe-406c-b869-0828aba16e44"
      },
      "execution_count": 8,
      "outputs": [
        {
          "output_type": "execute_result",
          "data": {
            "text/plain": [
              "           SEQN  SDDSRVYR  RIDSTATR  RIAGENDR  RIDAGEYR  RIDAGEMN  RIDRETH1  \\\n",
              "0      109263.0      66.0       2.0       1.0       2.0       NaN       5.0   \n",
              "1      109264.0      66.0       2.0       2.0      13.0       NaN       1.0   \n",
              "2      109265.0      66.0       2.0       1.0       2.0       NaN       3.0   \n",
              "3      109266.0      66.0       2.0       2.0      29.0       NaN       5.0   \n",
              "4      109267.0      66.0       1.0       2.0      21.0       NaN       2.0   \n",
              "...         ...       ...       ...       ...       ...       ...       ...   \n",
              "15555  124818.0      66.0       2.0       1.0      40.0       NaN       4.0   \n",
              "15556  124819.0      66.0       2.0       1.0       2.0       NaN       4.0   \n",
              "15557  124820.0      66.0       2.0       2.0       7.0       NaN       3.0   \n",
              "15558  124821.0      66.0       2.0       1.0      63.0       NaN       4.0   \n",
              "15559  124822.0      66.0       2.0       1.0      74.0       NaN       2.0   \n",
              "\n",
              "       RIDRETH3  RIDEXMON  DMDBORN4  ...  FIAINTRP  MIALANG  MIAPROXY  \\\n",
              "0           6.0       2.0       1.0  ...       2.0      NaN       NaN   \n",
              "1           1.0       2.0       1.0  ...       2.0      1.0       2.0   \n",
              "2           3.0       2.0       1.0  ...       2.0      NaN       NaN   \n",
              "3           6.0       2.0       2.0  ...       2.0      1.0       2.0   \n",
              "4           2.0       NaN       2.0  ...       2.0      NaN       NaN   \n",
              "...         ...       ...       ...  ...       ...      ...       ...   \n",
              "15555       4.0       1.0       1.0  ...       2.0      1.0       2.0   \n",
              "15556       4.0       2.0       1.0  ...       2.0      NaN       NaN   \n",
              "15557       3.0       2.0       1.0  ...       2.0      NaN       NaN   \n",
              "15558       4.0       1.0       1.0  ...       2.0      1.0       2.0   \n",
              "15559       2.0       2.0       2.0  ...       NaN      2.0       2.0   \n",
              "\n",
              "       MIAINTRP  AIALANGA      WTINTPRP      WTMECPRP  SDMVPSU  SDMVSTRA  \\\n",
              "0           NaN       NaN   7891.762435  8.951816e+03      3.0     156.0   \n",
              "1           2.0       1.0  11689.747264  1.227116e+04      1.0     155.0   \n",
              "2           NaN       NaN  16273.825939  1.665876e+04      1.0     157.0   \n",
              "3           2.0       1.0   7825.646112  8.154968e+03      2.0     168.0   \n",
              "4           NaN       NaN  26379.991724  5.397605e-79      1.0     156.0   \n",
              "...         ...       ...           ...           ...      ...       ...   \n",
              "15555       2.0       1.0  21586.596728  2.166689e+04      1.0     166.0   \n",
              "15556       NaN       NaN   1664.919253  1.838170e+03      2.0     171.0   \n",
              "15557       NaN       NaN  14819.783161  1.649781e+04      1.0     157.0   \n",
              "15558       2.0       1.0   4666.817952  4.853430e+03      1.0     158.0   \n",
              "15559       2.0       NaN  14024.476634  1.519580e+04      1.0     149.0   \n",
              "\n",
              "       INDFMPIR  \n",
              "0          4.66  \n",
              "1          0.83  \n",
              "2          3.06  \n",
              "3          5.00  \n",
              "4          5.00  \n",
              "...         ...  \n",
              "15555      3.82  \n",
              "15556      0.07  \n",
              "15557      1.22  \n",
              "15558      3.71  \n",
              "15559       NaN  \n",
              "\n",
              "[15560 rows x 29 columns]"
            ],
            "text/html": [
              "\n",
              "  <div id=\"df-6ffe51ee-09d4-4e33-99b2-9d4a13358f75\">\n",
              "    <div class=\"colab-df-container\">\n",
              "      <div>\n",
              "<style scoped>\n",
              "    .dataframe tbody tr th:only-of-type {\n",
              "        vertical-align: middle;\n",
              "    }\n",
              "\n",
              "    .dataframe tbody tr th {\n",
              "        vertical-align: top;\n",
              "    }\n",
              "\n",
              "    .dataframe thead th {\n",
              "        text-align: right;\n",
              "    }\n",
              "</style>\n",
              "<table border=\"1\" class=\"dataframe\">\n",
              "  <thead>\n",
              "    <tr style=\"text-align: right;\">\n",
              "      <th></th>\n",
              "      <th>SEQN</th>\n",
              "      <th>SDDSRVYR</th>\n",
              "      <th>RIDSTATR</th>\n",
              "      <th>RIAGENDR</th>\n",
              "      <th>RIDAGEYR</th>\n",
              "      <th>RIDAGEMN</th>\n",
              "      <th>RIDRETH1</th>\n",
              "      <th>RIDRETH3</th>\n",
              "      <th>RIDEXMON</th>\n",
              "      <th>DMDBORN4</th>\n",
              "      <th>...</th>\n",
              "      <th>FIAINTRP</th>\n",
              "      <th>MIALANG</th>\n",
              "      <th>MIAPROXY</th>\n",
              "      <th>MIAINTRP</th>\n",
              "      <th>AIALANGA</th>\n",
              "      <th>WTINTPRP</th>\n",
              "      <th>WTMECPRP</th>\n",
              "      <th>SDMVPSU</th>\n",
              "      <th>SDMVSTRA</th>\n",
              "      <th>INDFMPIR</th>\n",
              "    </tr>\n",
              "  </thead>\n",
              "  <tbody>\n",
              "    <tr>\n",
              "      <th>0</th>\n",
              "      <td>109263.0</td>\n",
              "      <td>66.0</td>\n",
              "      <td>2.0</td>\n",
              "      <td>1.0</td>\n",
              "      <td>2.0</td>\n",
              "      <td>NaN</td>\n",
              "      <td>5.0</td>\n",
              "      <td>6.0</td>\n",
              "      <td>2.0</td>\n",
              "      <td>1.0</td>\n",
              "      <td>...</td>\n",
              "      <td>2.0</td>\n",
              "      <td>NaN</td>\n",
              "      <td>NaN</td>\n",
              "      <td>NaN</td>\n",
              "      <td>NaN</td>\n",
              "      <td>7891.762435</td>\n",
              "      <td>8.951816e+03</td>\n",
              "      <td>3.0</td>\n",
              "      <td>156.0</td>\n",
              "      <td>4.66</td>\n",
              "    </tr>\n",
              "    <tr>\n",
              "      <th>1</th>\n",
              "      <td>109264.0</td>\n",
              "      <td>66.0</td>\n",
              "      <td>2.0</td>\n",
              "      <td>2.0</td>\n",
              "      <td>13.0</td>\n",
              "      <td>NaN</td>\n",
              "      <td>1.0</td>\n",
              "      <td>1.0</td>\n",
              "      <td>2.0</td>\n",
              "      <td>1.0</td>\n",
              "      <td>...</td>\n",
              "      <td>2.0</td>\n",
              "      <td>1.0</td>\n",
              "      <td>2.0</td>\n",
              "      <td>2.0</td>\n",
              "      <td>1.0</td>\n",
              "      <td>11689.747264</td>\n",
              "      <td>1.227116e+04</td>\n",
              "      <td>1.0</td>\n",
              "      <td>155.0</td>\n",
              "      <td>0.83</td>\n",
              "    </tr>\n",
              "    <tr>\n",
              "      <th>2</th>\n",
              "      <td>109265.0</td>\n",
              "      <td>66.0</td>\n",
              "      <td>2.0</td>\n",
              "      <td>1.0</td>\n",
              "      <td>2.0</td>\n",
              "      <td>NaN</td>\n",
              "      <td>3.0</td>\n",
              "      <td>3.0</td>\n",
              "      <td>2.0</td>\n",
              "      <td>1.0</td>\n",
              "      <td>...</td>\n",
              "      <td>2.0</td>\n",
              "      <td>NaN</td>\n",
              "      <td>NaN</td>\n",
              "      <td>NaN</td>\n",
              "      <td>NaN</td>\n",
              "      <td>16273.825939</td>\n",
              "      <td>1.665876e+04</td>\n",
              "      <td>1.0</td>\n",
              "      <td>157.0</td>\n",
              "      <td>3.06</td>\n",
              "    </tr>\n",
              "    <tr>\n",
              "      <th>3</th>\n",
              "      <td>109266.0</td>\n",
              "      <td>66.0</td>\n",
              "      <td>2.0</td>\n",
              "      <td>2.0</td>\n",
              "      <td>29.0</td>\n",
              "      <td>NaN</td>\n",
              "      <td>5.0</td>\n",
              "      <td>6.0</td>\n",
              "      <td>2.0</td>\n",
              "      <td>2.0</td>\n",
              "      <td>...</td>\n",
              "      <td>2.0</td>\n",
              "      <td>1.0</td>\n",
              "      <td>2.0</td>\n",
              "      <td>2.0</td>\n",
              "      <td>1.0</td>\n",
              "      <td>7825.646112</td>\n",
              "      <td>8.154968e+03</td>\n",
              "      <td>2.0</td>\n",
              "      <td>168.0</td>\n",
              "      <td>5.00</td>\n",
              "    </tr>\n",
              "    <tr>\n",
              "      <th>4</th>\n",
              "      <td>109267.0</td>\n",
              "      <td>66.0</td>\n",
              "      <td>1.0</td>\n",
              "      <td>2.0</td>\n",
              "      <td>21.0</td>\n",
              "      <td>NaN</td>\n",
              "      <td>2.0</td>\n",
              "      <td>2.0</td>\n",
              "      <td>NaN</td>\n",
              "      <td>2.0</td>\n",
              "      <td>...</td>\n",
              "      <td>2.0</td>\n",
              "      <td>NaN</td>\n",
              "      <td>NaN</td>\n",
              "      <td>NaN</td>\n",
              "      <td>NaN</td>\n",
              "      <td>26379.991724</td>\n",
              "      <td>5.397605e-79</td>\n",
              "      <td>1.0</td>\n",
              "      <td>156.0</td>\n",
              "      <td>5.00</td>\n",
              "    </tr>\n",
              "    <tr>\n",
              "      <th>...</th>\n",
              "      <td>...</td>\n",
              "      <td>...</td>\n",
              "      <td>...</td>\n",
              "      <td>...</td>\n",
              "      <td>...</td>\n",
              "      <td>...</td>\n",
              "      <td>...</td>\n",
              "      <td>...</td>\n",
              "      <td>...</td>\n",
              "      <td>...</td>\n",
              "      <td>...</td>\n",
              "      <td>...</td>\n",
              "      <td>...</td>\n",
              "      <td>...</td>\n",
              "      <td>...</td>\n",
              "      <td>...</td>\n",
              "      <td>...</td>\n",
              "      <td>...</td>\n",
              "      <td>...</td>\n",
              "      <td>...</td>\n",
              "      <td>...</td>\n",
              "    </tr>\n",
              "    <tr>\n",
              "      <th>15555</th>\n",
              "      <td>124818.0</td>\n",
              "      <td>66.0</td>\n",
              "      <td>2.0</td>\n",
              "      <td>1.0</td>\n",
              "      <td>40.0</td>\n",
              "      <td>NaN</td>\n",
              "      <td>4.0</td>\n",
              "      <td>4.0</td>\n",
              "      <td>1.0</td>\n",
              "      <td>1.0</td>\n",
              "      <td>...</td>\n",
              "      <td>2.0</td>\n",
              "      <td>1.0</td>\n",
              "      <td>2.0</td>\n",
              "      <td>2.0</td>\n",
              "      <td>1.0</td>\n",
              "      <td>21586.596728</td>\n",
              "      <td>2.166689e+04</td>\n",
              "      <td>1.0</td>\n",
              "      <td>166.0</td>\n",
              "      <td>3.82</td>\n",
              "    </tr>\n",
              "    <tr>\n",
              "      <th>15556</th>\n",
              "      <td>124819.0</td>\n",
              "      <td>66.0</td>\n",
              "      <td>2.0</td>\n",
              "      <td>1.0</td>\n",
              "      <td>2.0</td>\n",
              "      <td>NaN</td>\n",
              "      <td>4.0</td>\n",
              "      <td>4.0</td>\n",
              "      <td>2.0</td>\n",
              "      <td>1.0</td>\n",
              "      <td>...</td>\n",
              "      <td>2.0</td>\n",
              "      <td>NaN</td>\n",
              "      <td>NaN</td>\n",
              "      <td>NaN</td>\n",
              "      <td>NaN</td>\n",
              "      <td>1664.919253</td>\n",
              "      <td>1.838170e+03</td>\n",
              "      <td>2.0</td>\n",
              "      <td>171.0</td>\n",
              "      <td>0.07</td>\n",
              "    </tr>\n",
              "    <tr>\n",
              "      <th>15557</th>\n",
              "      <td>124820.0</td>\n",
              "      <td>66.0</td>\n",
              "      <td>2.0</td>\n",
              "      <td>2.0</td>\n",
              "      <td>7.0</td>\n",
              "      <td>NaN</td>\n",
              "      <td>3.0</td>\n",
              "      <td>3.0</td>\n",
              "      <td>2.0</td>\n",
              "      <td>1.0</td>\n",
              "      <td>...</td>\n",
              "      <td>2.0</td>\n",
              "      <td>NaN</td>\n",
              "      <td>NaN</td>\n",
              "      <td>NaN</td>\n",
              "      <td>NaN</td>\n",
              "      <td>14819.783161</td>\n",
              "      <td>1.649781e+04</td>\n",
              "      <td>1.0</td>\n",
              "      <td>157.0</td>\n",
              "      <td>1.22</td>\n",
              "    </tr>\n",
              "    <tr>\n",
              "      <th>15558</th>\n",
              "      <td>124821.0</td>\n",
              "      <td>66.0</td>\n",
              "      <td>2.0</td>\n",
              "      <td>1.0</td>\n",
              "      <td>63.0</td>\n",
              "      <td>NaN</td>\n",
              "      <td>4.0</td>\n",
              "      <td>4.0</td>\n",
              "      <td>1.0</td>\n",
              "      <td>1.0</td>\n",
              "      <td>...</td>\n",
              "      <td>2.0</td>\n",
              "      <td>1.0</td>\n",
              "      <td>2.0</td>\n",
              "      <td>2.0</td>\n",
              "      <td>1.0</td>\n",
              "      <td>4666.817952</td>\n",
              "      <td>4.853430e+03</td>\n",
              "      <td>1.0</td>\n",
              "      <td>158.0</td>\n",
              "      <td>3.71</td>\n",
              "    </tr>\n",
              "    <tr>\n",
              "      <th>15559</th>\n",
              "      <td>124822.0</td>\n",
              "      <td>66.0</td>\n",
              "      <td>2.0</td>\n",
              "      <td>1.0</td>\n",
              "      <td>74.0</td>\n",
              "      <td>NaN</td>\n",
              "      <td>2.0</td>\n",
              "      <td>2.0</td>\n",
              "      <td>2.0</td>\n",
              "      <td>2.0</td>\n",
              "      <td>...</td>\n",
              "      <td>NaN</td>\n",
              "      <td>2.0</td>\n",
              "      <td>2.0</td>\n",
              "      <td>2.0</td>\n",
              "      <td>NaN</td>\n",
              "      <td>14024.476634</td>\n",
              "      <td>1.519580e+04</td>\n",
              "      <td>1.0</td>\n",
              "      <td>149.0</td>\n",
              "      <td>NaN</td>\n",
              "    </tr>\n",
              "  </tbody>\n",
              "</table>\n",
              "<p>15560 rows × 29 columns</p>\n",
              "</div>\n",
              "      <button class=\"colab-df-convert\" onclick=\"convertToInteractive('df-6ffe51ee-09d4-4e33-99b2-9d4a13358f75')\"\n",
              "              title=\"Convert this dataframe to an interactive table.\"\n",
              "              style=\"display:none;\">\n",
              "        \n",
              "  <svg xmlns=\"http://www.w3.org/2000/svg\" height=\"24px\"viewBox=\"0 0 24 24\"\n",
              "       width=\"24px\">\n",
              "    <path d=\"M0 0h24v24H0V0z\" fill=\"none\"/>\n",
              "    <path d=\"M18.56 5.44l.94 2.06.94-2.06 2.06-.94-2.06-.94-.94-2.06-.94 2.06-2.06.94zm-11 1L8.5 8.5l.94-2.06 2.06-.94-2.06-.94L8.5 2.5l-.94 2.06-2.06.94zm10 10l.94 2.06.94-2.06 2.06-.94-2.06-.94-.94-2.06-.94 2.06-2.06.94z\"/><path d=\"M17.41 7.96l-1.37-1.37c-.4-.4-.92-.59-1.43-.59-.52 0-1.04.2-1.43.59L10.3 9.45l-7.72 7.72c-.78.78-.78 2.05 0 2.83L4 21.41c.39.39.9.59 1.41.59.51 0 1.02-.2 1.41-.59l7.78-7.78 2.81-2.81c.8-.78.8-2.07 0-2.86zM5.41 20L4 18.59l7.72-7.72 1.47 1.35L5.41 20z\"/>\n",
              "  </svg>\n",
              "      </button>\n",
              "      \n",
              "  <style>\n",
              "    .colab-df-container {\n",
              "      display:flex;\n",
              "      flex-wrap:wrap;\n",
              "      gap: 12px;\n",
              "    }\n",
              "\n",
              "    .colab-df-convert {\n",
              "      background-color: #E8F0FE;\n",
              "      border: none;\n",
              "      border-radius: 50%;\n",
              "      cursor: pointer;\n",
              "      display: none;\n",
              "      fill: #1967D2;\n",
              "      height: 32px;\n",
              "      padding: 0 0 0 0;\n",
              "      width: 32px;\n",
              "    }\n",
              "\n",
              "    .colab-df-convert:hover {\n",
              "      background-color: #E2EBFA;\n",
              "      box-shadow: 0px 1px 2px rgba(60, 64, 67, 0.3), 0px 1px 3px 1px rgba(60, 64, 67, 0.15);\n",
              "      fill: #174EA6;\n",
              "    }\n",
              "\n",
              "    [theme=dark] .colab-df-convert {\n",
              "      background-color: #3B4455;\n",
              "      fill: #D2E3FC;\n",
              "    }\n",
              "\n",
              "    [theme=dark] .colab-df-convert:hover {\n",
              "      background-color: #434B5C;\n",
              "      box-shadow: 0px 1px 3px 1px rgba(0, 0, 0, 0.15);\n",
              "      filter: drop-shadow(0px 1px 2px rgba(0, 0, 0, 0.3));\n",
              "      fill: #FFFFFF;\n",
              "    }\n",
              "  </style>\n",
              "\n",
              "      <script>\n",
              "        const buttonEl =\n",
              "          document.querySelector('#df-6ffe51ee-09d4-4e33-99b2-9d4a13358f75 button.colab-df-convert');\n",
              "        buttonEl.style.display =\n",
              "          google.colab.kernel.accessAllowed ? 'block' : 'none';\n",
              "\n",
              "        async function convertToInteractive(key) {\n",
              "          const element = document.querySelector('#df-6ffe51ee-09d4-4e33-99b2-9d4a13358f75');\n",
              "          const dataTable =\n",
              "            await google.colab.kernel.invokeFunction('convertToInteractive',\n",
              "                                                     [key], {});\n",
              "          if (!dataTable) return;\n",
              "\n",
              "          const docLinkHtml = 'Like what you see? Visit the ' +\n",
              "            '<a target=\"_blank\" href=https://colab.research.google.com/notebooks/data_table.ipynb>data table notebook</a>'\n",
              "            + ' to learn more about interactive tables.';\n",
              "          element.innerHTML = '';\n",
              "          dataTable['output_type'] = 'display_data';\n",
              "          await google.colab.output.renderOutput(dataTable, element);\n",
              "          const docLink = document.createElement('div');\n",
              "          docLink.innerHTML = docLinkHtml;\n",
              "          element.appendChild(docLink);\n",
              "        }\n",
              "      </script>\n",
              "    </div>\n",
              "  </div>\n",
              "  "
            ]
          },
          "metadata": {},
          "execution_count": 8
        }
      ]
    },
    {
      "cell_type": "code",
      "source": [
        "# drop unrelevant features from the Demographic datset\n",
        "df_demo1 = df_demo.drop(['SDDSRVYR', 'RIDSTATR',\n",
        "       'RIDRETH1', 'RIDRETH3', 'DMDYRUSZ', \n",
        "        'RIDEXPRG', 'SIALANG', 'SIAPROXY', 'SIAINTRP', 'FIALANG',\n",
        "       'FIAPROXY', 'FIAINTRP', 'MIALANG', 'MIAPROXY', 'MIAINTRP', 'AIALANGA',\n",
        "       'WTINTPRP', 'WTMECPRP', 'SDMVPSU', 'SDMVSTRA', 'INDFMPIR'], axis = 1)"
      ],
      "metadata": {
        "id": "caH-MlJNIMTk"
      },
      "execution_count": 9,
      "outputs": []
    },
    {
      "cell_type": "code",
      "source": [
        "# Import Dietrary Data\n",
        "df_diet = pd.read_sas('https://wwwn.cdc.gov/Nchs/Nhanes/2017-2018/P_DR1IFF.XPT')"
      ],
      "metadata": {
        "id": "jYQCQOPh4v0B"
      },
      "execution_count": 10,
      "outputs": []
    },
    {
      "cell_type": "code",
      "source": [
        "df_diet"
      ],
      "metadata": {
        "colab": {
          "base_uri": "https://localhost:8080/",
          "height": 488
        },
        "id": "8znunqSdCwQy",
        "outputId": "681cf6e1-6440-4449-8f31-1defd9c6d0a5"
      },
      "execution_count": 11,
      "outputs": [
        {
          "output_type": "execute_result",
          "data": {
            "text/plain": [
              "            SEQN     WTDRD1PP      WTDR2DPP  DR1ILINE  DR1DRSTZ  DR1EXMER  \\\n",
              "0       109263.0  7619.483586  1.780807e+04      12.0       1.0      14.0   \n",
              "1       109263.0  7619.483586  1.780807e+04      10.0       1.0      14.0   \n",
              "2       109263.0  7619.483586  1.780807e+04       4.0       1.0      14.0   \n",
              "3       109263.0  7619.483586  1.780807e+04       9.0       1.0      14.0   \n",
              "4       109263.0  7619.483586  1.780807e+04      13.0       1.0      14.0   \n",
              "...          ...          ...           ...       ...       ...       ...   \n",
              "183905  124821.0  3043.724330  5.397605e-79       5.0       1.0      81.0   \n",
              "183906  124821.0  3043.724330  5.397605e-79       4.0       1.0      81.0   \n",
              "183907  124821.0  3043.724330  5.397605e-79       3.0       1.0      81.0   \n",
              "183908  124821.0  3043.724330  5.397605e-79       2.0       1.0      81.0   \n",
              "183909  124821.0  3043.724330  5.397605e-79       1.0       1.0      81.0   \n",
              "\n",
              "        DRABF  DRDINT       DR1DBIH  DR1DAY  ...      DR1IM181      DR1IM201  \\\n",
              "0         2.0     2.0  4.000000e+00     6.0  ...  1.941000e+00  3.600000e-02   \n",
              "1         2.0     2.0  4.000000e+00     6.0  ...  1.229000e+00  1.300000e-02   \n",
              "2         2.0     2.0  4.000000e+00     6.0  ...  5.683000e+00  8.800000e-02   \n",
              "3         2.0     2.0  4.000000e+00     6.0  ...  1.000000e-02  5.397605e-79   \n",
              "4         2.0     2.0  4.000000e+00     6.0  ...  2.382000e+00  1.400000e-02   \n",
              "...       ...     ...           ...     ...  ...           ...           ...   \n",
              "183905    2.0     1.0  5.397605e-79     7.0  ...  5.397605e-79  5.397605e-79   \n",
              "183906    2.0     1.0  5.397605e-79     7.0  ...  1.600000e+00  5.397605e-79   \n",
              "183907    2.0     1.0  5.397605e-79     7.0  ...  3.900000e-01  4.000000e-03   \n",
              "183908    2.0     1.0  5.397605e-79     7.0  ...  5.397605e-79  5.397605e-79   \n",
              "183909    2.0     1.0  5.397605e-79     7.0  ...  2.018700e+01  4.820000e-01   \n",
              "\n",
              "            DR1IM221      DR1IP182      DR1IP183      DR1IP184      DR1IP204  \\\n",
              "0       5.397605e-79  8.380000e-01  8.800000e-02  5.397605e-79  1.200000e-02   \n",
              "1       5.397605e-79  5.200000e-01  1.300000e-02  5.397605e-79  5.397605e-79   \n",
              "2       5.000000e-03  3.482000e+00  4.210000e-01  5.000000e-03  2.900000e-02   \n",
              "3       5.397605e-79  6.900000e-02  1.500000e-02  5.397605e-79  5.397605e-79   \n",
              "4       5.397605e-79  1.209000e+00  1.140000e-01  5.397605e-79  5.397605e-79   \n",
              "...              ...           ...           ...           ...           ...   \n",
              "183905  5.397605e-79  5.397605e-79  5.397605e-79  5.397605e-79  5.397605e-79   \n",
              "183906  2.000000e-03  2.632000e+00  2.010000e-01  5.397605e-79  1.000000e-03   \n",
              "183907  5.397605e-79  6.530000e-01  7.900000e-02  5.397605e-79  9.000000e-03   \n",
              "183908  5.397605e-79  5.397605e-79  5.397605e-79  5.397605e-79  5.397605e-79   \n",
              "183909  1.800000e-02  1.074500e+01  1.281000e+00  9.000000e-03  2.480000e-01   \n",
              "\n",
              "            DR1IP205      DR1IP225      DR1IP226  \n",
              "0       5.397605e-79  5.397605e-79  5.397605e-79  \n",
              "1       5.397605e-79  5.397605e-79  5.397605e-79  \n",
              "2       1.000000e-02  1.000000e-02  5.397605e-79  \n",
              "3       5.397605e-79  5.397605e-79  5.397605e-79  \n",
              "4       5.397605e-79  5.397605e-79  5.397605e-79  \n",
              "...              ...           ...           ...  \n",
              "183905  5.397605e-79  5.397605e-79  5.397605e-79  \n",
              "183906  5.397605e-79  5.397605e-79  5.397605e-79  \n",
              "183907  1.500000e-02  1.000000e-03  1.600000e-02  \n",
              "183908  5.397605e-79  5.397605e-79  5.397605e-79  \n",
              "183909  9.600000e-02  8.300000e-02  3.210000e-01  \n",
              "\n",
              "[183910 rows x 84 columns]"
            ],
            "text/html": [
              "\n",
              "  <div id=\"df-546bb4e6-2c1b-4ed9-8ca7-4573f46c2d5c\">\n",
              "    <div class=\"colab-df-container\">\n",
              "      <div>\n",
              "<style scoped>\n",
              "    .dataframe tbody tr th:only-of-type {\n",
              "        vertical-align: middle;\n",
              "    }\n",
              "\n",
              "    .dataframe tbody tr th {\n",
              "        vertical-align: top;\n",
              "    }\n",
              "\n",
              "    .dataframe thead th {\n",
              "        text-align: right;\n",
              "    }\n",
              "</style>\n",
              "<table border=\"1\" class=\"dataframe\">\n",
              "  <thead>\n",
              "    <tr style=\"text-align: right;\">\n",
              "      <th></th>\n",
              "      <th>SEQN</th>\n",
              "      <th>WTDRD1PP</th>\n",
              "      <th>WTDR2DPP</th>\n",
              "      <th>DR1ILINE</th>\n",
              "      <th>DR1DRSTZ</th>\n",
              "      <th>DR1EXMER</th>\n",
              "      <th>DRABF</th>\n",
              "      <th>DRDINT</th>\n",
              "      <th>DR1DBIH</th>\n",
              "      <th>DR1DAY</th>\n",
              "      <th>...</th>\n",
              "      <th>DR1IM181</th>\n",
              "      <th>DR1IM201</th>\n",
              "      <th>DR1IM221</th>\n",
              "      <th>DR1IP182</th>\n",
              "      <th>DR1IP183</th>\n",
              "      <th>DR1IP184</th>\n",
              "      <th>DR1IP204</th>\n",
              "      <th>DR1IP205</th>\n",
              "      <th>DR1IP225</th>\n",
              "      <th>DR1IP226</th>\n",
              "    </tr>\n",
              "  </thead>\n",
              "  <tbody>\n",
              "    <tr>\n",
              "      <th>0</th>\n",
              "      <td>109263.0</td>\n",
              "      <td>7619.483586</td>\n",
              "      <td>1.780807e+04</td>\n",
              "      <td>12.0</td>\n",
              "      <td>1.0</td>\n",
              "      <td>14.0</td>\n",
              "      <td>2.0</td>\n",
              "      <td>2.0</td>\n",
              "      <td>4.000000e+00</td>\n",
              "      <td>6.0</td>\n",
              "      <td>...</td>\n",
              "      <td>1.941000e+00</td>\n",
              "      <td>3.600000e-02</td>\n",
              "      <td>5.397605e-79</td>\n",
              "      <td>8.380000e-01</td>\n",
              "      <td>8.800000e-02</td>\n",
              "      <td>5.397605e-79</td>\n",
              "      <td>1.200000e-02</td>\n",
              "      <td>5.397605e-79</td>\n",
              "      <td>5.397605e-79</td>\n",
              "      <td>5.397605e-79</td>\n",
              "    </tr>\n",
              "    <tr>\n",
              "      <th>1</th>\n",
              "      <td>109263.0</td>\n",
              "      <td>7619.483586</td>\n",
              "      <td>1.780807e+04</td>\n",
              "      <td>10.0</td>\n",
              "      <td>1.0</td>\n",
              "      <td>14.0</td>\n",
              "      <td>2.0</td>\n",
              "      <td>2.0</td>\n",
              "      <td>4.000000e+00</td>\n",
              "      <td>6.0</td>\n",
              "      <td>...</td>\n",
              "      <td>1.229000e+00</td>\n",
              "      <td>1.300000e-02</td>\n",
              "      <td>5.397605e-79</td>\n",
              "      <td>5.200000e-01</td>\n",
              "      <td>1.300000e-02</td>\n",
              "      <td>5.397605e-79</td>\n",
              "      <td>5.397605e-79</td>\n",
              "      <td>5.397605e-79</td>\n",
              "      <td>5.397605e-79</td>\n",
              "      <td>5.397605e-79</td>\n",
              "    </tr>\n",
              "    <tr>\n",
              "      <th>2</th>\n",
              "      <td>109263.0</td>\n",
              "      <td>7619.483586</td>\n",
              "      <td>1.780807e+04</td>\n",
              "      <td>4.0</td>\n",
              "      <td>1.0</td>\n",
              "      <td>14.0</td>\n",
              "      <td>2.0</td>\n",
              "      <td>2.0</td>\n",
              "      <td>4.000000e+00</td>\n",
              "      <td>6.0</td>\n",
              "      <td>...</td>\n",
              "      <td>5.683000e+00</td>\n",
              "      <td>8.800000e-02</td>\n",
              "      <td>5.000000e-03</td>\n",
              "      <td>3.482000e+00</td>\n",
              "      <td>4.210000e-01</td>\n",
              "      <td>5.000000e-03</td>\n",
              "      <td>2.900000e-02</td>\n",
              "      <td>1.000000e-02</td>\n",
              "      <td>1.000000e-02</td>\n",
              "      <td>5.397605e-79</td>\n",
              "    </tr>\n",
              "    <tr>\n",
              "      <th>3</th>\n",
              "      <td>109263.0</td>\n",
              "      <td>7619.483586</td>\n",
              "      <td>1.780807e+04</td>\n",
              "      <td>9.0</td>\n",
              "      <td>1.0</td>\n",
              "      <td>14.0</td>\n",
              "      <td>2.0</td>\n",
              "      <td>2.0</td>\n",
              "      <td>4.000000e+00</td>\n",
              "      <td>6.0</td>\n",
              "      <td>...</td>\n",
              "      <td>1.000000e-02</td>\n",
              "      <td>5.397605e-79</td>\n",
              "      <td>5.397605e-79</td>\n",
              "      <td>6.900000e-02</td>\n",
              "      <td>1.500000e-02</td>\n",
              "      <td>5.397605e-79</td>\n",
              "      <td>5.397605e-79</td>\n",
              "      <td>5.397605e-79</td>\n",
              "      <td>5.397605e-79</td>\n",
              "      <td>5.397605e-79</td>\n",
              "    </tr>\n",
              "    <tr>\n",
              "      <th>4</th>\n",
              "      <td>109263.0</td>\n",
              "      <td>7619.483586</td>\n",
              "      <td>1.780807e+04</td>\n",
              "      <td>13.0</td>\n",
              "      <td>1.0</td>\n",
              "      <td>14.0</td>\n",
              "      <td>2.0</td>\n",
              "      <td>2.0</td>\n",
              "      <td>4.000000e+00</td>\n",
              "      <td>6.0</td>\n",
              "      <td>...</td>\n",
              "      <td>2.382000e+00</td>\n",
              "      <td>1.400000e-02</td>\n",
              "      <td>5.397605e-79</td>\n",
              "      <td>1.209000e+00</td>\n",
              "      <td>1.140000e-01</td>\n",
              "      <td>5.397605e-79</td>\n",
              "      <td>5.397605e-79</td>\n",
              "      <td>5.397605e-79</td>\n",
              "      <td>5.397605e-79</td>\n",
              "      <td>5.397605e-79</td>\n",
              "    </tr>\n",
              "    <tr>\n",
              "      <th>...</th>\n",
              "      <td>...</td>\n",
              "      <td>...</td>\n",
              "      <td>...</td>\n",
              "      <td>...</td>\n",
              "      <td>...</td>\n",
              "      <td>...</td>\n",
              "      <td>...</td>\n",
              "      <td>...</td>\n",
              "      <td>...</td>\n",
              "      <td>...</td>\n",
              "      <td>...</td>\n",
              "      <td>...</td>\n",
              "      <td>...</td>\n",
              "      <td>...</td>\n",
              "      <td>...</td>\n",
              "      <td>...</td>\n",
              "      <td>...</td>\n",
              "      <td>...</td>\n",
              "      <td>...</td>\n",
              "      <td>...</td>\n",
              "      <td>...</td>\n",
              "    </tr>\n",
              "    <tr>\n",
              "      <th>183905</th>\n",
              "      <td>124821.0</td>\n",
              "      <td>3043.724330</td>\n",
              "      <td>5.397605e-79</td>\n",
              "      <td>5.0</td>\n",
              "      <td>1.0</td>\n",
              "      <td>81.0</td>\n",
              "      <td>2.0</td>\n",
              "      <td>1.0</td>\n",
              "      <td>5.397605e-79</td>\n",
              "      <td>7.0</td>\n",
              "      <td>...</td>\n",
              "      <td>5.397605e-79</td>\n",
              "      <td>5.397605e-79</td>\n",
              "      <td>5.397605e-79</td>\n",
              "      <td>5.397605e-79</td>\n",
              "      <td>5.397605e-79</td>\n",
              "      <td>5.397605e-79</td>\n",
              "      <td>5.397605e-79</td>\n",
              "      <td>5.397605e-79</td>\n",
              "      <td>5.397605e-79</td>\n",
              "      <td>5.397605e-79</td>\n",
              "    </tr>\n",
              "    <tr>\n",
              "      <th>183906</th>\n",
              "      <td>124821.0</td>\n",
              "      <td>3043.724330</td>\n",
              "      <td>5.397605e-79</td>\n",
              "      <td>4.0</td>\n",
              "      <td>1.0</td>\n",
              "      <td>81.0</td>\n",
              "      <td>2.0</td>\n",
              "      <td>1.0</td>\n",
              "      <td>5.397605e-79</td>\n",
              "      <td>7.0</td>\n",
              "      <td>...</td>\n",
              "      <td>1.600000e+00</td>\n",
              "      <td>5.397605e-79</td>\n",
              "      <td>2.000000e-03</td>\n",
              "      <td>2.632000e+00</td>\n",
              "      <td>2.010000e-01</td>\n",
              "      <td>5.397605e-79</td>\n",
              "      <td>1.000000e-03</td>\n",
              "      <td>5.397605e-79</td>\n",
              "      <td>5.397605e-79</td>\n",
              "      <td>5.397605e-79</td>\n",
              "    </tr>\n",
              "    <tr>\n",
              "      <th>183907</th>\n",
              "      <td>124821.0</td>\n",
              "      <td>3043.724330</td>\n",
              "      <td>5.397605e-79</td>\n",
              "      <td>3.0</td>\n",
              "      <td>1.0</td>\n",
              "      <td>81.0</td>\n",
              "      <td>2.0</td>\n",
              "      <td>1.0</td>\n",
              "      <td>5.397605e-79</td>\n",
              "      <td>7.0</td>\n",
              "      <td>...</td>\n",
              "      <td>3.900000e-01</td>\n",
              "      <td>4.000000e-03</td>\n",
              "      <td>5.397605e-79</td>\n",
              "      <td>6.530000e-01</td>\n",
              "      <td>7.900000e-02</td>\n",
              "      <td>5.397605e-79</td>\n",
              "      <td>9.000000e-03</td>\n",
              "      <td>1.500000e-02</td>\n",
              "      <td>1.000000e-03</td>\n",
              "      <td>1.600000e-02</td>\n",
              "    </tr>\n",
              "    <tr>\n",
              "      <th>183908</th>\n",
              "      <td>124821.0</td>\n",
              "      <td>3043.724330</td>\n",
              "      <td>5.397605e-79</td>\n",
              "      <td>2.0</td>\n",
              "      <td>1.0</td>\n",
              "      <td>81.0</td>\n",
              "      <td>2.0</td>\n",
              "      <td>1.0</td>\n",
              "      <td>5.397605e-79</td>\n",
              "      <td>7.0</td>\n",
              "      <td>...</td>\n",
              "      <td>5.397605e-79</td>\n",
              "      <td>5.397605e-79</td>\n",
              "      <td>5.397605e-79</td>\n",
              "      <td>5.397605e-79</td>\n",
              "      <td>5.397605e-79</td>\n",
              "      <td>5.397605e-79</td>\n",
              "      <td>5.397605e-79</td>\n",
              "      <td>5.397605e-79</td>\n",
              "      <td>5.397605e-79</td>\n",
              "      <td>5.397605e-79</td>\n",
              "    </tr>\n",
              "    <tr>\n",
              "      <th>183909</th>\n",
              "      <td>124821.0</td>\n",
              "      <td>3043.724330</td>\n",
              "      <td>5.397605e-79</td>\n",
              "      <td>1.0</td>\n",
              "      <td>1.0</td>\n",
              "      <td>81.0</td>\n",
              "      <td>2.0</td>\n",
              "      <td>1.0</td>\n",
              "      <td>5.397605e-79</td>\n",
              "      <td>7.0</td>\n",
              "      <td>...</td>\n",
              "      <td>2.018700e+01</td>\n",
              "      <td>4.820000e-01</td>\n",
              "      <td>1.800000e-02</td>\n",
              "      <td>1.074500e+01</td>\n",
              "      <td>1.281000e+00</td>\n",
              "      <td>9.000000e-03</td>\n",
              "      <td>2.480000e-01</td>\n",
              "      <td>9.600000e-02</td>\n",
              "      <td>8.300000e-02</td>\n",
              "      <td>3.210000e-01</td>\n",
              "    </tr>\n",
              "  </tbody>\n",
              "</table>\n",
              "<p>183910 rows × 84 columns</p>\n",
              "</div>\n",
              "      <button class=\"colab-df-convert\" onclick=\"convertToInteractive('df-546bb4e6-2c1b-4ed9-8ca7-4573f46c2d5c')\"\n",
              "              title=\"Convert this dataframe to an interactive table.\"\n",
              "              style=\"display:none;\">\n",
              "        \n",
              "  <svg xmlns=\"http://www.w3.org/2000/svg\" height=\"24px\"viewBox=\"0 0 24 24\"\n",
              "       width=\"24px\">\n",
              "    <path d=\"M0 0h24v24H0V0z\" fill=\"none\"/>\n",
              "    <path d=\"M18.56 5.44l.94 2.06.94-2.06 2.06-.94-2.06-.94-.94-2.06-.94 2.06-2.06.94zm-11 1L8.5 8.5l.94-2.06 2.06-.94-2.06-.94L8.5 2.5l-.94 2.06-2.06.94zm10 10l.94 2.06.94-2.06 2.06-.94-2.06-.94-.94-2.06-.94 2.06-2.06.94z\"/><path d=\"M17.41 7.96l-1.37-1.37c-.4-.4-.92-.59-1.43-.59-.52 0-1.04.2-1.43.59L10.3 9.45l-7.72 7.72c-.78.78-.78 2.05 0 2.83L4 21.41c.39.39.9.59 1.41.59.51 0 1.02-.2 1.41-.59l7.78-7.78 2.81-2.81c.8-.78.8-2.07 0-2.86zM5.41 20L4 18.59l7.72-7.72 1.47 1.35L5.41 20z\"/>\n",
              "  </svg>\n",
              "      </button>\n",
              "      \n",
              "  <style>\n",
              "    .colab-df-container {\n",
              "      display:flex;\n",
              "      flex-wrap:wrap;\n",
              "      gap: 12px;\n",
              "    }\n",
              "\n",
              "    .colab-df-convert {\n",
              "      background-color: #E8F0FE;\n",
              "      border: none;\n",
              "      border-radius: 50%;\n",
              "      cursor: pointer;\n",
              "      display: none;\n",
              "      fill: #1967D2;\n",
              "      height: 32px;\n",
              "      padding: 0 0 0 0;\n",
              "      width: 32px;\n",
              "    }\n",
              "\n",
              "    .colab-df-convert:hover {\n",
              "      background-color: #E2EBFA;\n",
              "      box-shadow: 0px 1px 2px rgba(60, 64, 67, 0.3), 0px 1px 3px 1px rgba(60, 64, 67, 0.15);\n",
              "      fill: #174EA6;\n",
              "    }\n",
              "\n",
              "    [theme=dark] .colab-df-convert {\n",
              "      background-color: #3B4455;\n",
              "      fill: #D2E3FC;\n",
              "    }\n",
              "\n",
              "    [theme=dark] .colab-df-convert:hover {\n",
              "      background-color: #434B5C;\n",
              "      box-shadow: 0px 1px 3px 1px rgba(0, 0, 0, 0.15);\n",
              "      filter: drop-shadow(0px 1px 2px rgba(0, 0, 0, 0.3));\n",
              "      fill: #FFFFFF;\n",
              "    }\n",
              "  </style>\n",
              "\n",
              "      <script>\n",
              "        const buttonEl =\n",
              "          document.querySelector('#df-546bb4e6-2c1b-4ed9-8ca7-4573f46c2d5c button.colab-df-convert');\n",
              "        buttonEl.style.display =\n",
              "          google.colab.kernel.accessAllowed ? 'block' : 'none';\n",
              "\n",
              "        async function convertToInteractive(key) {\n",
              "          const element = document.querySelector('#df-546bb4e6-2c1b-4ed9-8ca7-4573f46c2d5c');\n",
              "          const dataTable =\n",
              "            await google.colab.kernel.invokeFunction('convertToInteractive',\n",
              "                                                     [key], {});\n",
              "          if (!dataTable) return;\n",
              "\n",
              "          const docLinkHtml = 'Like what you see? Visit the ' +\n",
              "            '<a target=\"_blank\" href=https://colab.research.google.com/notebooks/data_table.ipynb>data table notebook</a>'\n",
              "            + ' to learn more about interactive tables.';\n",
              "          element.innerHTML = '';\n",
              "          dataTable['output_type'] = 'display_data';\n",
              "          await google.colab.output.renderOutput(dataTable, element);\n",
              "          const docLink = document.createElement('div');\n",
              "          docLink.innerHTML = docLinkHtml;\n",
              "          element.appendChild(docLink);\n",
              "        }\n",
              "      </script>\n",
              "    </div>\n",
              "  </div>\n",
              "  "
            ]
          },
          "metadata": {},
          "execution_count": 11
        }
      ]
    },
    {
      "cell_type": "code",
      "source": [
        "# drop unrelated columns\n",
        "df_diet1  = df_diet.drop([ 'DR1ILINE', 'DR1DRSTZ', 'DR1EXMER',\n",
        "       'DRABF', 'DRDINT', 'DR1DBIH', 'DR1DAY', 'DR1LANG', 'DR1CCMNM',\n",
        "       'DR1CCMTX', 'DR1_020', 'DR1_030Z', 'DR1FS', 'DR1_040Z', 'DR1IFDCD',\n",
        "       'DR1IGRMS', 'DR1IMFAT', 'DR1IPFAT', 'DR1IATOC',\n",
        "        'DR1IRET',  'DR1IACAR', 'DR1IBCAR', 'DR1ICRYP',\n",
        "       'DR1ILYCO', 'DR1ILZ',  'DR1INIAC', \n",
        "       'DR1IFOLA', 'DR1IFA', 'DR1IFF', 'DR1IFDFE', 'DR1ICHL',  'DR1IPHOS',\n",
        "       'DR1IMAGN', 'DR1IPOTA',\n",
        "       'DR1ISELE',  'DR1ITHEO',  'DR1IMOIS', 'DR1IS040',\n",
        "       'DR1IS060', 'DR1IS080', 'DR1IS100', 'DR1IS120', 'DR1IS140', 'DR1IS160',\n",
        "       'DR1IS180', 'DR1IM161', 'DR1IM181', 'DR1IM201', 'DR1IM221', 'DR1IP182',\n",
        "       'DR1IP183', 'DR1IP184', 'DR1IP204', 'DR1IP205', 'DR1IP225', 'DR1IP226', 'DR1ICOPP', 'WTDRD1PP','WTDR2DPP' ], axis = 1)"
      ],
      "metadata": {
        "id": "92DOPVQ-5M7T"
      },
      "execution_count": 12,
      "outputs": []
    },
    {
      "cell_type": "code",
      "source": [
        "# IMport examination Data - Body Measure\n",
        "df_bmx = pd.read_sas('https://wwwn.cdc.gov/Nchs/Nhanes/2017-2018/P_BMX.XPT')"
      ],
      "metadata": {
        "id": "GF3Mu6EhCzXM"
      },
      "execution_count": 13,
      "outputs": []
    },
    {
      "cell_type": "code",
      "source": [
        "df_bmx1 = df_bmx.drop([ 'BMDSTATS',  'BMIWT', 'BMXRECUM', 'BMIRECUM', 'BMXHEAD',\n",
        "       'BMIHEAD', 'BMXHT', 'BMIHT',   'BMXLEG', 'BMILEG',\n",
        "       'BMXARML', 'BMIARML', 'BMXARMC', 'BMIARMC', 'BMXWAIST', 'BMIWAIST',\n",
        "       'BMXHIP', 'BMIHIP'], axis = 1)"
      ],
      "metadata": {
        "id": "fsgH1_l2GmgM"
      },
      "execution_count": 14,
      "outputs": []
    },
    {
      "cell_type": "code",
      "source": [
        "# Import Labratory Data - Insulin\n",
        "df_insulin = pd.read_sas('https://wwwn.cdc.gov/Nchs/Nhanes/2017-2018/P_INS.XPT')"
      ],
      "metadata": {
        "id": "yrGhoS7jGqSs"
      },
      "execution_count": 15,
      "outputs": []
    },
    {
      "cell_type": "code",
      "source": [
        "# Import Labratory Data - Cholestrol data\n",
        "df_chol = pd.read_sas('https://wwwn.cdc.gov/Nchs/Nhanes/2017-2018/P_TCHOL.XPT')"
      ],
      "metadata": {
        "id": "HVJUK8HkG6hg"
      },
      "execution_count": 16,
      "outputs": []
    },
    {
      "cell_type": "code",
      "source": [
        "# Import Labratory Data - Glucose\n",
        "df_glu = pd.read_sas('https://wwwn.cdc.gov/Nchs/Nhanes/2017-2018/P_GLU.XPT')"
      ],
      "metadata": {
        "id": "ck1rYxQKHCZx"
      },
      "execution_count": 17,
      "outputs": []
    },
    {
      "cell_type": "code",
      "source": [
        "#  Merge all the data based on Sequence Number\n",
        "df_demo_diet_bmx_ins_chol_glu = pd.merge(pd.merge(pd.merge(pd.merge(pd.merge(df_demo1, df_bmx1, on='SEQN', how='inner'), \n",
        "                                              df_insulin, on='SEQN', how='inner'), \n",
        "                                             df_chol, on='SEQN', how='inner'),\n",
        "                                            df_glu, on='SEQN', how='inner'),\n",
        "                                         df_diet1, on='SEQN', how='inner') "
      ],
      "metadata": {
        "id": "wohzdqIRHJn2"
      },
      "execution_count": 18,
      "outputs": []
    },
    {
      "cell_type": "code",
      "source": [
        "df_demo_diet_bmx_ins_chol_glu.head()"
      ],
      "metadata": {
        "colab": {
          "base_uri": "https://localhost:8080/",
          "height": 300
        },
        "id": "LObXeDauHMbA",
        "outputId": "4927278f-0142-414b-e1b6-891fb8afdc5b"
      },
      "execution_count": 19,
      "outputs": [
        {
          "output_type": "execute_result",
          "data": {
            "text/plain": [
              "       SEQN  RIAGENDR  RIDAGEYR  RIDAGEMN  RIDEXMON  DMDBORN4  DMDEDUC2  \\\n",
              "0  109264.0       2.0      13.0       NaN       2.0       1.0       NaN   \n",
              "1  109264.0       2.0      13.0       NaN       2.0       1.0       NaN   \n",
              "2  109264.0       2.0      13.0       NaN       2.0       1.0       NaN   \n",
              "3  109264.0       2.0      13.0       NaN       2.0       1.0       NaN   \n",
              "4  109264.0       2.0      13.0       NaN       2.0       1.0       NaN   \n",
              "\n",
              "   DMDMARTZ  BMXWT  BMXBMI  ...      DR1IB12A        DR1IVC        DR1IVD  \\\n",
              "0       NaN   42.2    17.6  ...  5.397605e-79  5.397605e-79  5.397605e-79   \n",
              "1       NaN   42.2    17.6  ...  5.397605e-79  5.397605e-79  5.397605e-79   \n",
              "2       NaN   42.2    17.6  ...  5.397605e-79  5.397605e-79  5.397605e-79   \n",
              "3       NaN   42.2    17.6  ...  5.397605e-79  9.000000e-01  5.397605e-79   \n",
              "4       NaN   42.2    17.6  ...  5.397605e-79  1.000000e-01  5.397605e-79   \n",
              "\n",
              "         DR1IVK  DR1ICALC      DR1IIRON  DR1IZINC  DR1ISODI      DR1ICAFF  \\\n",
              "0  5.397605e-79       1.0  5.397605e-79      0.01       2.0  5.397605e-79   \n",
              "1  5.397605e-79       7.0  5.397605e-79      0.02      10.0  5.397605e-79   \n",
              "2  5.397605e-79      16.0  5.397605e-79      0.05      21.0  5.397605e-79   \n",
              "3  3.700000e+00      11.0  6.300000e-01      0.73     210.0  5.397605e-79   \n",
              "4  8.000000e-01       1.0  4.000000e-02      0.01      23.0  5.397605e-79   \n",
              "\n",
              "       DR1IALCO  \n",
              "0  5.397605e-79  \n",
              "1  5.397605e-79  \n",
              "2  5.397605e-79  \n",
              "3  5.397605e-79  \n",
              "4  5.397605e-79  \n",
              "\n",
              "[5 rows x 44 columns]"
            ],
            "text/html": [
              "\n",
              "  <div id=\"df-a5d4705d-d527-4004-81ca-3590e65fe97d\">\n",
              "    <div class=\"colab-df-container\">\n",
              "      <div>\n",
              "<style scoped>\n",
              "    .dataframe tbody tr th:only-of-type {\n",
              "        vertical-align: middle;\n",
              "    }\n",
              "\n",
              "    .dataframe tbody tr th {\n",
              "        vertical-align: top;\n",
              "    }\n",
              "\n",
              "    .dataframe thead th {\n",
              "        text-align: right;\n",
              "    }\n",
              "</style>\n",
              "<table border=\"1\" class=\"dataframe\">\n",
              "  <thead>\n",
              "    <tr style=\"text-align: right;\">\n",
              "      <th></th>\n",
              "      <th>SEQN</th>\n",
              "      <th>RIAGENDR</th>\n",
              "      <th>RIDAGEYR</th>\n",
              "      <th>RIDAGEMN</th>\n",
              "      <th>RIDEXMON</th>\n",
              "      <th>DMDBORN4</th>\n",
              "      <th>DMDEDUC2</th>\n",
              "      <th>DMDMARTZ</th>\n",
              "      <th>BMXWT</th>\n",
              "      <th>BMXBMI</th>\n",
              "      <th>...</th>\n",
              "      <th>DR1IB12A</th>\n",
              "      <th>DR1IVC</th>\n",
              "      <th>DR1IVD</th>\n",
              "      <th>DR1IVK</th>\n",
              "      <th>DR1ICALC</th>\n",
              "      <th>DR1IIRON</th>\n",
              "      <th>DR1IZINC</th>\n",
              "      <th>DR1ISODI</th>\n",
              "      <th>DR1ICAFF</th>\n",
              "      <th>DR1IALCO</th>\n",
              "    </tr>\n",
              "  </thead>\n",
              "  <tbody>\n",
              "    <tr>\n",
              "      <th>0</th>\n",
              "      <td>109264.0</td>\n",
              "      <td>2.0</td>\n",
              "      <td>13.0</td>\n",
              "      <td>NaN</td>\n",
              "      <td>2.0</td>\n",
              "      <td>1.0</td>\n",
              "      <td>NaN</td>\n",
              "      <td>NaN</td>\n",
              "      <td>42.2</td>\n",
              "      <td>17.6</td>\n",
              "      <td>...</td>\n",
              "      <td>5.397605e-79</td>\n",
              "      <td>5.397605e-79</td>\n",
              "      <td>5.397605e-79</td>\n",
              "      <td>5.397605e-79</td>\n",
              "      <td>1.0</td>\n",
              "      <td>5.397605e-79</td>\n",
              "      <td>0.01</td>\n",
              "      <td>2.0</td>\n",
              "      <td>5.397605e-79</td>\n",
              "      <td>5.397605e-79</td>\n",
              "    </tr>\n",
              "    <tr>\n",
              "      <th>1</th>\n",
              "      <td>109264.0</td>\n",
              "      <td>2.0</td>\n",
              "      <td>13.0</td>\n",
              "      <td>NaN</td>\n",
              "      <td>2.0</td>\n",
              "      <td>1.0</td>\n",
              "      <td>NaN</td>\n",
              "      <td>NaN</td>\n",
              "      <td>42.2</td>\n",
              "      <td>17.6</td>\n",
              "      <td>...</td>\n",
              "      <td>5.397605e-79</td>\n",
              "      <td>5.397605e-79</td>\n",
              "      <td>5.397605e-79</td>\n",
              "      <td>5.397605e-79</td>\n",
              "      <td>7.0</td>\n",
              "      <td>5.397605e-79</td>\n",
              "      <td>0.02</td>\n",
              "      <td>10.0</td>\n",
              "      <td>5.397605e-79</td>\n",
              "      <td>5.397605e-79</td>\n",
              "    </tr>\n",
              "    <tr>\n",
              "      <th>2</th>\n",
              "      <td>109264.0</td>\n",
              "      <td>2.0</td>\n",
              "      <td>13.0</td>\n",
              "      <td>NaN</td>\n",
              "      <td>2.0</td>\n",
              "      <td>1.0</td>\n",
              "      <td>NaN</td>\n",
              "      <td>NaN</td>\n",
              "      <td>42.2</td>\n",
              "      <td>17.6</td>\n",
              "      <td>...</td>\n",
              "      <td>5.397605e-79</td>\n",
              "      <td>5.397605e-79</td>\n",
              "      <td>5.397605e-79</td>\n",
              "      <td>5.397605e-79</td>\n",
              "      <td>16.0</td>\n",
              "      <td>5.397605e-79</td>\n",
              "      <td>0.05</td>\n",
              "      <td>21.0</td>\n",
              "      <td>5.397605e-79</td>\n",
              "      <td>5.397605e-79</td>\n",
              "    </tr>\n",
              "    <tr>\n",
              "      <th>3</th>\n",
              "      <td>109264.0</td>\n",
              "      <td>2.0</td>\n",
              "      <td>13.0</td>\n",
              "      <td>NaN</td>\n",
              "      <td>2.0</td>\n",
              "      <td>1.0</td>\n",
              "      <td>NaN</td>\n",
              "      <td>NaN</td>\n",
              "      <td>42.2</td>\n",
              "      <td>17.6</td>\n",
              "      <td>...</td>\n",
              "      <td>5.397605e-79</td>\n",
              "      <td>9.000000e-01</td>\n",
              "      <td>5.397605e-79</td>\n",
              "      <td>3.700000e+00</td>\n",
              "      <td>11.0</td>\n",
              "      <td>6.300000e-01</td>\n",
              "      <td>0.73</td>\n",
              "      <td>210.0</td>\n",
              "      <td>5.397605e-79</td>\n",
              "      <td>5.397605e-79</td>\n",
              "    </tr>\n",
              "    <tr>\n",
              "      <th>4</th>\n",
              "      <td>109264.0</td>\n",
              "      <td>2.0</td>\n",
              "      <td>13.0</td>\n",
              "      <td>NaN</td>\n",
              "      <td>2.0</td>\n",
              "      <td>1.0</td>\n",
              "      <td>NaN</td>\n",
              "      <td>NaN</td>\n",
              "      <td>42.2</td>\n",
              "      <td>17.6</td>\n",
              "      <td>...</td>\n",
              "      <td>5.397605e-79</td>\n",
              "      <td>1.000000e-01</td>\n",
              "      <td>5.397605e-79</td>\n",
              "      <td>8.000000e-01</td>\n",
              "      <td>1.0</td>\n",
              "      <td>4.000000e-02</td>\n",
              "      <td>0.01</td>\n",
              "      <td>23.0</td>\n",
              "      <td>5.397605e-79</td>\n",
              "      <td>5.397605e-79</td>\n",
              "    </tr>\n",
              "  </tbody>\n",
              "</table>\n",
              "<p>5 rows × 44 columns</p>\n",
              "</div>\n",
              "      <button class=\"colab-df-convert\" onclick=\"convertToInteractive('df-a5d4705d-d527-4004-81ca-3590e65fe97d')\"\n",
              "              title=\"Convert this dataframe to an interactive table.\"\n",
              "              style=\"display:none;\">\n",
              "        \n",
              "  <svg xmlns=\"http://www.w3.org/2000/svg\" height=\"24px\"viewBox=\"0 0 24 24\"\n",
              "       width=\"24px\">\n",
              "    <path d=\"M0 0h24v24H0V0z\" fill=\"none\"/>\n",
              "    <path d=\"M18.56 5.44l.94 2.06.94-2.06 2.06-.94-2.06-.94-.94-2.06-.94 2.06-2.06.94zm-11 1L8.5 8.5l.94-2.06 2.06-.94-2.06-.94L8.5 2.5l-.94 2.06-2.06.94zm10 10l.94 2.06.94-2.06 2.06-.94-2.06-.94-.94-2.06-.94 2.06-2.06.94z\"/><path d=\"M17.41 7.96l-1.37-1.37c-.4-.4-.92-.59-1.43-.59-.52 0-1.04.2-1.43.59L10.3 9.45l-7.72 7.72c-.78.78-.78 2.05 0 2.83L4 21.41c.39.39.9.59 1.41.59.51 0 1.02-.2 1.41-.59l7.78-7.78 2.81-2.81c.8-.78.8-2.07 0-2.86zM5.41 20L4 18.59l7.72-7.72 1.47 1.35L5.41 20z\"/>\n",
              "  </svg>\n",
              "      </button>\n",
              "      \n",
              "  <style>\n",
              "    .colab-df-container {\n",
              "      display:flex;\n",
              "      flex-wrap:wrap;\n",
              "      gap: 12px;\n",
              "    }\n",
              "\n",
              "    .colab-df-convert {\n",
              "      background-color: #E8F0FE;\n",
              "      border: none;\n",
              "      border-radius: 50%;\n",
              "      cursor: pointer;\n",
              "      display: none;\n",
              "      fill: #1967D2;\n",
              "      height: 32px;\n",
              "      padding: 0 0 0 0;\n",
              "      width: 32px;\n",
              "    }\n",
              "\n",
              "    .colab-df-convert:hover {\n",
              "      background-color: #E2EBFA;\n",
              "      box-shadow: 0px 1px 2px rgba(60, 64, 67, 0.3), 0px 1px 3px 1px rgba(60, 64, 67, 0.15);\n",
              "      fill: #174EA6;\n",
              "    }\n",
              "\n",
              "    [theme=dark] .colab-df-convert {\n",
              "      background-color: #3B4455;\n",
              "      fill: #D2E3FC;\n",
              "    }\n",
              "\n",
              "    [theme=dark] .colab-df-convert:hover {\n",
              "      background-color: #434B5C;\n",
              "      box-shadow: 0px 1px 3px 1px rgba(0, 0, 0, 0.15);\n",
              "      filter: drop-shadow(0px 1px 2px rgba(0, 0, 0, 0.3));\n",
              "      fill: #FFFFFF;\n",
              "    }\n",
              "  </style>\n",
              "\n",
              "      <script>\n",
              "        const buttonEl =\n",
              "          document.querySelector('#df-a5d4705d-d527-4004-81ca-3590e65fe97d button.colab-df-convert');\n",
              "        buttonEl.style.display =\n",
              "          google.colab.kernel.accessAllowed ? 'block' : 'none';\n",
              "\n",
              "        async function convertToInteractive(key) {\n",
              "          const element = document.querySelector('#df-a5d4705d-d527-4004-81ca-3590e65fe97d');\n",
              "          const dataTable =\n",
              "            await google.colab.kernel.invokeFunction('convertToInteractive',\n",
              "                                                     [key], {});\n",
              "          if (!dataTable) return;\n",
              "\n",
              "          const docLinkHtml = 'Like what you see? Visit the ' +\n",
              "            '<a target=\"_blank\" href=https://colab.research.google.com/notebooks/data_table.ipynb>data table notebook</a>'\n",
              "            + ' to learn more about interactive tables.';\n",
              "          element.innerHTML = '';\n",
              "          dataTable['output_type'] = 'display_data';\n",
              "          await google.colab.output.renderOutput(dataTable, element);\n",
              "          const docLink = document.createElement('div');\n",
              "          docLink.innerHTML = docLinkHtml;\n",
              "          element.appendChild(docLink);\n",
              "        }\n",
              "      </script>\n",
              "    </div>\n",
              "  </div>\n",
              "  "
            ]
          },
          "metadata": {},
          "execution_count": 19
        }
      ]
    },
    {
      "cell_type": "code",
      "source": [
        "# null value check \n",
        "df_demo_diet_bmx_ins_chol_glu.isna().sum()"
      ],
      "metadata": {
        "colab": {
          "base_uri": "https://localhost:8080/"
        },
        "id": "MEo18NkwHnVq",
        "outputId": "8c622529-bf70-4830-caa1-afdd270f223d"
      },
      "execution_count": 20,
      "outputs": [
        {
          "output_type": "execute_result",
          "data": {
            "text/plain": [
              "SEQN              0\n",
              "RIAGENDR          0\n",
              "RIDAGEYR          0\n",
              "RIDAGEMN      68857\n",
              "RIDEXMON          0\n",
              "DMDBORN4          0\n",
              "DMDEDUC2       9150\n",
              "DMDMARTZ       9150\n",
              "BMXWT           721\n",
              "BMXBMI          903\n",
              "BMDBMIC       59873\n",
              "WTSAFPRP_x        0\n",
              "LBXIN          5406\n",
              "LBDINSI        5406\n",
              "LBDINLC        5406\n",
              "LBXTC          4908\n",
              "LBDTCSI        4908\n",
              "WTSAFPRP_y        0\n",
              "LBXGLU         3821\n",
              "LBDGLUSI       3821\n",
              "DR1IKCAL          0\n",
              "DR1IPROT          0\n",
              "DR1ICARB          0\n",
              "DR1ISUGR          0\n",
              "DR1IFIBE          0\n",
              "DR1ITFAT          0\n",
              "DR1ISFAT          0\n",
              "DR1ICHOL          0\n",
              "DR1IATOA          0\n",
              "DR1IVARA          0\n",
              "DR1IVB1           0\n",
              "DR1IVB2           0\n",
              "DR1IVB6           0\n",
              "DR1IVB12          0\n",
              "DR1IB12A          0\n",
              "DR1IVC            0\n",
              "DR1IVD            0\n",
              "DR1IVK            0\n",
              "DR1ICALC          0\n",
              "DR1IIRON          0\n",
              "DR1IZINC          0\n",
              "DR1ISODI          0\n",
              "DR1ICAFF          0\n",
              "DR1IALCO          0\n",
              "dtype: int64"
            ]
          },
          "metadata": {},
          "execution_count": 20
        }
      ]
    },
    {
      "cell_type": "code",
      "source": [
        "df_demo_diet_bmx_ins_chol_glu.info()"
      ],
      "metadata": {
        "colab": {
          "base_uri": "https://localhost:8080/"
        },
        "id": "lLlXe5oQQpXG",
        "outputId": "b7feab4e-8b8a-4ef3-f426-39fe8fc55e52"
      },
      "execution_count": 21,
      "outputs": [
        {
          "output_type": "stream",
          "name": "stdout",
          "text": [
            "<class 'pandas.core.frame.DataFrame'>\n",
            "Int64Index: 68857 entries, 0 to 68856\n",
            "Data columns (total 44 columns):\n",
            " #   Column      Non-Null Count  Dtype  \n",
            "---  ------      --------------  -----  \n",
            " 0   SEQN        68857 non-null  float64\n",
            " 1   RIAGENDR    68857 non-null  float64\n",
            " 2   RIDAGEYR    68857 non-null  float64\n",
            " 3   RIDAGEMN    0 non-null      float64\n",
            " 4   RIDEXMON    68857 non-null  float64\n",
            " 5   DMDBORN4    68857 non-null  float64\n",
            " 6   DMDEDUC2    59707 non-null  float64\n",
            " 7   DMDMARTZ    59707 non-null  float64\n",
            " 8   BMXWT       68136 non-null  float64\n",
            " 9   BMXBMI      67954 non-null  float64\n",
            " 10  BMDBMIC     8984 non-null   float64\n",
            " 11  WTSAFPRP_x  68857 non-null  float64\n",
            " 12  LBXIN       63451 non-null  float64\n",
            " 13  LBDINSI     63451 non-null  float64\n",
            " 14  LBDINLC     63451 non-null  float64\n",
            " 15  LBXTC       63949 non-null  float64\n",
            " 16  LBDTCSI     63949 non-null  float64\n",
            " 17  WTSAFPRP_y  68857 non-null  float64\n",
            " 18  LBXGLU      65036 non-null  float64\n",
            " 19  LBDGLUSI    65036 non-null  float64\n",
            " 20  DR1IKCAL    68857 non-null  float64\n",
            " 21  DR1IPROT    68857 non-null  float64\n",
            " 22  DR1ICARB    68857 non-null  float64\n",
            " 23  DR1ISUGR    68857 non-null  float64\n",
            " 24  DR1IFIBE    68857 non-null  float64\n",
            " 25  DR1ITFAT    68857 non-null  float64\n",
            " 26  DR1ISFAT    68857 non-null  float64\n",
            " 27  DR1ICHOL    68857 non-null  float64\n",
            " 28  DR1IATOA    68857 non-null  float64\n",
            " 29  DR1IVARA    68857 non-null  float64\n",
            " 30  DR1IVB1     68857 non-null  float64\n",
            " 31  DR1IVB2     68857 non-null  float64\n",
            " 32  DR1IVB6     68857 non-null  float64\n",
            " 33  DR1IVB12    68857 non-null  float64\n",
            " 34  DR1IB12A    68857 non-null  float64\n",
            " 35  DR1IVC      68857 non-null  float64\n",
            " 36  DR1IVD      68857 non-null  float64\n",
            " 37  DR1IVK      68857 non-null  float64\n",
            " 38  DR1ICALC    68857 non-null  float64\n",
            " 39  DR1IIRON    68857 non-null  float64\n",
            " 40  DR1IZINC    68857 non-null  float64\n",
            " 41  DR1ISODI    68857 non-null  float64\n",
            " 42  DR1ICAFF    68857 non-null  float64\n",
            " 43  DR1IALCO    68857 non-null  float64\n",
            "dtypes: float64(44)\n",
            "memory usage: 23.6 MB\n"
          ]
        }
      ]
    },
    {
      "cell_type": "code",
      "source": [
        "# Final dataset for execution\n",
        "df_final = df_demo_diet_bmx_ins_chol_glu.drop(['RIDAGEMN', 'BMDBMIC', 'RIDEXMON', 'DR1IZINC', 'DR1ISODI', \n",
        "                          'LBDINSI','LBDINLC','LBDTCSI', 'LBXTC','LBXGLU', 'WTSAFPRP_y', 'WTSAFPRP_x', \n",
        "                          'SEQN',  'DR1ISFAT'], axis = 1)"
      ],
      "metadata": {
        "id": "QUZu58oUP1S8"
      },
      "execution_count": 22,
      "outputs": []
    },
    {
      "cell_type": "code",
      "source": [],
      "metadata": {
        "id": "4iFVZvREQoUP"
      },
      "execution_count": 22,
      "outputs": []
    },
    {
      "cell_type": "code",
      "source": [
        "df_final.shape"
      ],
      "metadata": {
        "colab": {
          "base_uri": "https://localhost:8080/"
        },
        "id": "ajFrocZWQC6I",
        "outputId": "159a8cc5-c300-4242-8728-08ed07997272"
      },
      "execution_count": 23,
      "outputs": [
        {
          "output_type": "execute_result",
          "data": {
            "text/plain": [
              "(68857, 30)"
            ]
          },
          "metadata": {},
          "execution_count": 23
        }
      ]
    },
    {
      "cell_type": "code",
      "source": [
        "df_final.info()"
      ],
      "metadata": {
        "colab": {
          "base_uri": "https://localhost:8080/"
        },
        "id": "nJEHLMpOQGRB",
        "outputId": "12cf86a9-76ce-42cb-800e-46eb454bbde7"
      },
      "execution_count": 24,
      "outputs": [
        {
          "output_type": "stream",
          "name": "stdout",
          "text": [
            "<class 'pandas.core.frame.DataFrame'>\n",
            "Int64Index: 68857 entries, 0 to 68856\n",
            "Data columns (total 30 columns):\n",
            " #   Column    Non-Null Count  Dtype  \n",
            "---  ------    --------------  -----  \n",
            " 0   RIAGENDR  68857 non-null  float64\n",
            " 1   RIDAGEYR  68857 non-null  float64\n",
            " 2   DMDBORN4  68857 non-null  float64\n",
            " 3   DMDEDUC2  59707 non-null  float64\n",
            " 4   DMDMARTZ  59707 non-null  float64\n",
            " 5   BMXWT     68136 non-null  float64\n",
            " 6   BMXBMI    67954 non-null  float64\n",
            " 7   LBXIN     63451 non-null  float64\n",
            " 8   LBDGLUSI  65036 non-null  float64\n",
            " 9   DR1IKCAL  68857 non-null  float64\n",
            " 10  DR1IPROT  68857 non-null  float64\n",
            " 11  DR1ICARB  68857 non-null  float64\n",
            " 12  DR1ISUGR  68857 non-null  float64\n",
            " 13  DR1IFIBE  68857 non-null  float64\n",
            " 14  DR1ITFAT  68857 non-null  float64\n",
            " 15  DR1ICHOL  68857 non-null  float64\n",
            " 16  DR1IATOA  68857 non-null  float64\n",
            " 17  DR1IVARA  68857 non-null  float64\n",
            " 18  DR1IVB1   68857 non-null  float64\n",
            " 19  DR1IVB2   68857 non-null  float64\n",
            " 20  DR1IVB6   68857 non-null  float64\n",
            " 21  DR1IVB12  68857 non-null  float64\n",
            " 22  DR1IB12A  68857 non-null  float64\n",
            " 23  DR1IVC    68857 non-null  float64\n",
            " 24  DR1IVD    68857 non-null  float64\n",
            " 25  DR1IVK    68857 non-null  float64\n",
            " 26  DR1ICALC  68857 non-null  float64\n",
            " 27  DR1IIRON  68857 non-null  float64\n",
            " 28  DR1ICAFF  68857 non-null  float64\n",
            " 29  DR1IALCO  68857 non-null  float64\n",
            "dtypes: float64(30)\n",
            "memory usage: 16.3 MB\n"
          ]
        }
      ]
    },
    {
      "cell_type": "code",
      "source": [
        "# create Glucose column for the round value of glucose status from lab data\n",
        "df_final['GLUCOSE'] = df_final['LBDGLUSI'].round()\n",
        "counts = df_final['GLUCOSE'] .value_counts()\n",
        "counts"
      ],
      "metadata": {
        "colab": {
          "base_uri": "https://localhost:8080/"
        },
        "id": "NKyKB4IEQEnW",
        "outputId": "8d30c65f-0a73-4e22-f563-d7546d6dd383"
      },
      "execution_count": 25,
      "outputs": [
        {
          "output_type": "execute_result",
          "data": {
            "text/plain": [
              "6.0     28449\n",
              "5.0     22924\n",
              "7.0      6053\n",
              "8.0      1946\n",
              "9.0      1332\n",
              "10.0     1046\n",
              "4.0       825\n",
              "11.0      518\n",
              "12.0      453\n",
              "13.0      316\n",
              "14.0      231\n",
              "16.0      198\n",
              "17.0      162\n",
              "15.0      133\n",
              "18.0      112\n",
              "20.0       83\n",
              "19.0       75\n",
              "22.0       57\n",
              "3.0        56\n",
              "21.0       27\n",
              "23.0       21\n",
              "25.0       11\n",
              "29.0        8\n",
              "Name: GLUCOSE, dtype: int64"
            ]
          },
          "metadata": {},
          "execution_count": 25
        }
      ]
    },
    {
      "cell_type": "code",
      "source": [
        "# check Diabetes count, according to research- more than/equal to 7 considered as diabetic \n",
        "(df_final['GLUCOSE']>=7).value_counts().plot(kind='bar')\n",
        "# below plot shows the imbalance in data set"
      ],
      "metadata": {
        "colab": {
          "base_uri": "https://localhost:8080/",
          "height": 469
        },
        "id": "p3EJ08b6QyZU",
        "outputId": "f9bd140e-870f-47cd-cc9e-1be63e13b1f0"
      },
      "execution_count": 26,
      "outputs": [
        {
          "output_type": "execute_result",
          "data": {
            "text/plain": [
              "<Axes: >"
            ]
          },
          "metadata": {},
          "execution_count": 26
        },
        {
          "output_type": "display_data",
          "data": {
            "text/plain": [
              "<Figure size 640x480 with 1 Axes>"
            ],
            "image/png": "[encoded data removed]"
          },
          "metadata": {}
        }
      ]
    },
    {
      "cell_type": "code",
      "source": [
        "df_final = df_final.drop(['GLUCOSE'], axis = 1 )"
      ],
      "metadata": {
        "id": "oNCnNtZJQ1rB"
      },
      "execution_count": 27,
      "outputs": []
    },
    {
      "cell_type": "code",
      "source": [
        "# Drop unrelated VItamins data which may not be useful in diabetic prediction\n",
        "df_final = df_final.drop(['DR1IATOA', 'DR1IVARA', 'DR1IVB1', 'DR1IVB2', 'DR1IVB6', 'DR1IVB12', 'DR1IB12A', 'DR1IVC', \n",
        "                         'DR1IVD','DR1IVK'], axis = 1)"
      ],
      "metadata": {
        "id": "qgHPaYX9Q-Vm"
      },
      "execution_count": 28,
      "outputs": []
    },
    {
      "cell_type": "code",
      "source": [
        "df_final = df_final.drop(['BMXWT', 'DR1IKCAL', 'DMDEDUC2'], axis = 1)\n"
      ],
      "metadata": {
        "id": "BOnU-d1QRJ__"
      },
      "execution_count": 29,
      "outputs": []
    },
    {
      "cell_type": "code",
      "source": [
        "df_final.info()"
      ],
      "metadata": {
        "colab": {
          "base_uri": "https://localhost:8080/"
        },
        "id": "9XySSndRRB_d",
        "outputId": "91d80c5e-667e-48e1-99fa-a1f3adf08f3d"
      },
      "execution_count": 30,
      "outputs": [
        {
          "output_type": "stream",
          "name": "stdout",
          "text": [
            "<class 'pandas.core.frame.DataFrame'>\n",
            "Int64Index: 68857 entries, 0 to 68856\n",
            "Data columns (total 17 columns):\n",
            " #   Column    Non-Null Count  Dtype  \n",
            "---  ------    --------------  -----  \n",
            " 0   RIAGENDR  68857 non-null  float64\n",
            " 1   RIDAGEYR  68857 non-null  float64\n",
            " 2   DMDBORN4  68857 non-null  float64\n",
            " 3   DMDMARTZ  59707 non-null  float64\n",
            " 4   BMXBMI    67954 non-null  float64\n",
            " 5   LBXIN     63451 non-null  float64\n",
            " 6   LBDGLUSI  65036 non-null  float64\n",
            " 7   DR1IPROT  68857 non-null  float64\n",
            " 8   DR1ICARB  68857 non-null  float64\n",
            " 9   DR1ISUGR  68857 non-null  float64\n",
            " 10  DR1IFIBE  68857 non-null  float64\n",
            " 11  DR1ITFAT  68857 non-null  float64\n",
            " 12  DR1ICHOL  68857 non-null  float64\n",
            " 13  DR1ICALC  68857 non-null  float64\n",
            " 14  DR1IIRON  68857 non-null  float64\n",
            " 15  DR1ICAFF  68857 non-null  float64\n",
            " 16  DR1IALCO  68857 non-null  float64\n",
            "dtypes: float64(17)\n",
            "memory usage: 9.5 MB\n"
          ]
        }
      ]
    },
    {
      "cell_type": "code",
      "source": [
        "df_final.isna().sum()"
      ],
      "metadata": {
        "colab": {
          "base_uri": "https://localhost:8080/"
        },
        "id": "kaCr3EfwRDd-",
        "outputId": "0860ef3f-97ec-41e5-c861-bb35cc27216b"
      },
      "execution_count": 31,
      "outputs": [
        {
          "output_type": "execute_result",
          "data": {
            "text/plain": [
              "RIAGENDR       0\n",
              "RIDAGEYR       0\n",
              "DMDBORN4       0\n",
              "DMDMARTZ    9150\n",
              "BMXBMI       903\n",
              "LBXIN       5406\n",
              "LBDGLUSI    3821\n",
              "DR1IPROT       0\n",
              "DR1ICARB       0\n",
              "DR1ISUGR       0\n",
              "DR1IFIBE       0\n",
              "DR1ITFAT       0\n",
              "DR1ICHOL       0\n",
              "DR1ICALC       0\n",
              "DR1IIRON       0\n",
              "DR1ICAFF       0\n",
              "DR1IALCO       0\n",
              "dtype: int64"
            ]
          },
          "metadata": {},
          "execution_count": 31
        }
      ]
    },
    {
      "cell_type": "code",
      "source": [
        "df_final = df_final.dropna(subset=['DMDMARTZ', 'BMXBMI','LBXIN', 'LBDGLUSI'])"
      ],
      "metadata": {
        "id": "6c4rePXfRaji"
      },
      "execution_count": 32,
      "outputs": []
    },
    {
      "cell_type": "code",
      "source": [
        "df_final.isna().sum()"
      ],
      "metadata": {
        "colab": {
          "base_uri": "https://localhost:8080/"
        },
        "id": "bko6cJX1Rn0y",
        "outputId": "8692efee-897e-45d4-d30f-854fb5f4d9f5"
      },
      "execution_count": 33,
      "outputs": [
        {
          "output_type": "execute_result",
          "data": {
            "text/plain": [
              "RIAGENDR    0\n",
              "RIDAGEYR    0\n",
              "DMDBORN4    0\n",
              "DMDMARTZ    0\n",
              "BMXBMI      0\n",
              "LBXIN       0\n",
              "LBDGLUSI    0\n",
              "DR1IPROT    0\n",
              "DR1ICARB    0\n",
              "DR1ISUGR    0\n",
              "DR1IFIBE    0\n",
              "DR1ITFAT    0\n",
              "DR1ICHOL    0\n",
              "DR1ICALC    0\n",
              "DR1IIRON    0\n",
              "DR1ICAFF    0\n",
              "DR1IALCO    0\n",
              "dtype: int64"
            ]
          },
          "metadata": {},
          "execution_count": 33
        }
      ]
    },
    {
      "cell_type": "code",
      "source": [
        "df_final.info()"
      ],
      "metadata": {
        "colab": {
          "base_uri": "https://localhost:8080/"
        },
        "id": "_RnREdYyRpzD",
        "outputId": "913357ba-ebfe-47ae-f270-22ae4f1bebe4"
      },
      "execution_count": 34,
      "outputs": [
        {
          "output_type": "stream",
          "name": "stdout",
          "text": [
            "<class 'pandas.core.frame.DataFrame'>\n",
            "Int64Index: 54924 entries, 19 to 68856\n",
            "Data columns (total 17 columns):\n",
            " #   Column    Non-Null Count  Dtype  \n",
            "---  ------    --------------  -----  \n",
            " 0   RIAGENDR  54924 non-null  float64\n",
            " 1   RIDAGEYR  54924 non-null  float64\n",
            " 2   DMDBORN4  54924 non-null  float64\n",
            " 3   DMDMARTZ  54924 non-null  float64\n",
            " 4   BMXBMI    54924 non-null  float64\n",
            " 5   LBXIN     54924 non-null  float64\n",
            " 6   LBDGLUSI  54924 non-null  float64\n",
            " 7   DR1IPROT  54924 non-null  float64\n",
            " 8   DR1ICARB  54924 non-null  float64\n",
            " 9   DR1ISUGR  54924 non-null  float64\n",
            " 10  DR1IFIBE  54924 non-null  float64\n",
            " 11  DR1ITFAT  54924 non-null  float64\n",
            " 12  DR1ICHOL  54924 non-null  float64\n",
            " 13  DR1ICALC  54924 non-null  float64\n",
            " 14  DR1IIRON  54924 non-null  float64\n",
            " 15  DR1ICAFF  54924 non-null  float64\n",
            " 16  DR1IALCO  54924 non-null  float64\n",
            "dtypes: float64(17)\n",
            "memory usage: 7.5 MB\n"
          ]
        }
      ]
    },
    {
      "cell_type": "code",
      "source": [
        "# there are few categorical features too , will be using SMOTE_NC\n",
        "X = df_final.drop('LBDGLUSI', axis = 1)\n",
        "y = df_final['LBDGLUSI']\n",
        "# to remove \"ValueError: Unknown label type: 'continuous'\" error, hanging the data type for target variable\n",
        "y = y.astype('int')"
      ],
      "metadata": {
        "id": "zpQqqBkiRrvI"
      },
      "execution_count": 35,
      "outputs": []
    },
    {
      "cell_type": "code",
      "source": [
        "X.head()\n",
        "X.shape"
      ],
      "metadata": {
        "colab": {
          "base_uri": "https://localhost:8080/"
        },
        "id": "Ro8U3wnYR0ib",
        "outputId": "dc87c342-1881-4ad3-ecf8-456af57b9ff8"
      },
      "execution_count": 36,
      "outputs": [
        {
          "output_type": "execute_result",
          "data": {
            "text/plain": [
              "(54924, 16)"
            ]
          },
          "metadata": {},
          "execution_count": 36
        }
      ]
    },
    {
      "cell_type": "code",
      "source": [
        "# categorical_features\n",
        "categorical_features = [0, 2, 3, 4] \n",
        "# Using SMOTE-NC for unbalance data - since data has categorical and numerical data, using SMOTE-NC instead of SMOTE\n",
        "smote_nc = SMOTENC(categorical_features=categorical_features, random_state=42)\n",
        "X_resampled, y_resampled = smote_nc.fit_resample(X, y)\n"
      ],
      "metadata": {
        "id": "07mhRY-2R2Gj"
      },
      "execution_count": 37,
      "outputs": []
    },
    {
      "cell_type": "code",
      "source": [
        "X_train, X_test, y_train, y_test = train_test_split(X_resampled, y_resampled, test_size=0.3, random_state=42)\n"
      ],
      "metadata": {
        "id": "Oa1nOAsbR5aV"
      },
      "execution_count": 38,
      "outputs": []
    },
    {
      "cell_type": "code",
      "source": [
        "# Create a logistic regression model and fit it \n",
        "lr = LogisticRegression(random_state=42)\n",
        "lr.fit(X_train, y_train)\n",
        "\n",
        "# Make predictions on a test set (assuming X_test is the test set)\n",
        "# y_pred = lr.predict(X_test)"
      ],
      "metadata": {
        "colab": {
          "base_uri": "https://localhost:8080/",
          "height": 75
        },
        "id": "MM7iIDZlR7vM",
        "outputId": "dee449b3-33d2-4ebe-c2ee-89c59388ece5"
      },
      "execution_count": 39,
      "outputs": [
        {
          "output_type": "execute_result",
          "data": {
            "text/plain": [
              "LogisticRegression(random_state=42)"
            ],
            "text/html": [
              "<style>#sk-container-id-1 {color: black;background-color: white;}#sk-container-id-1 pre{padding: 0;}#sk-container-id-1 div.sk-toggleable {background-color: white;}#sk-container-id-1 label.sk-toggleable__label {cursor: pointer;display: block;width: 100%;margin-bottom: 0;padding: 0.3em;box-sizing: border-box;text-align: center;}#sk-container-id-1 label.sk-toggleable__label-arrow:before {content: \"▸\";float: left;margin-right: 0.25em;color: #696969;}#sk-container-id-1 label.sk-toggleable__label-arrow:hover:before {color: black;}#sk-container-id-1 div.sk-estimator:hover label.sk-toggleable__label-arrow:before {color: black;}#sk-container-id-1 div.sk-toggleable__content {max-height: 0;max-width: 0;overflow: hidden;text-align: left;background-color: #f0f8ff;}#sk-container-id-1 div.sk-toggleable__content pre {margin: 0.2em;color: black;border-radius: 0.25em;background-color: #f0f8ff;}#sk-container-id-1 input.sk-toggleable__control:checked~div.sk-toggleable__content {max-height: 200px;max-width: 100%;overflow: auto;}#sk-container-id-1 input.sk-toggleable__control:checked~label.sk-toggleable__label-arrow:before {content: \"▾\";}#sk-container-id-1 div.sk-estimator input.sk-toggleable__control:checked~label.sk-toggleable__label {background-color: #d4ebff;}#sk-container-id-1 div.sk-label input.sk-toggleable__control:checked~label.sk-toggleable__label {background-color: #d4ebff;}#sk-container-id-1 input.sk-hidden--visually {border: 0;clip: rect(1px 1px 1px 1px);clip: rect(1px, 1px, 1px, 1px);height: 1px;margin: -1px;overflow: hidden;padding: 0;position: absolute;width: 1px;}#sk-container-id-1 div.sk-estimator {font-family: monospace;background-color: #f0f8ff;border: 1px dotted black;border-radius: 0.25em;box-sizing: border-box;margin-bottom: 0.5em;}#sk-container-id-1 div.sk-estimator:hover {background-color: #d4ebff;}#sk-container-id-1 div.sk-parallel-item::after {content: \"\";width: 100%;border-bottom: 1px solid gray;flex-grow: 1;}#sk-container-id-1 div.sk-label:hover label.sk-toggleable__label {background-color: #d4ebff;}#sk-container-id-1 div.sk-serial::before {content: \"\";position: absolute;border-left: 1px solid gray;box-sizing: border-box;top: 0;bottom: 0;left: 50%;z-index: 0;}#sk-container-id-1 div.sk-serial {display: flex;flex-direction: column;align-items: center;background-color: white;padding-right: 0.2em;padding-left: 0.2em;position: relative;}#sk-container-id-1 div.sk-item {position: relative;z-index: 1;}#sk-container-id-1 div.sk-parallel {display: flex;align-items: stretch;justify-content: center;background-color: white;position: relative;}#sk-container-id-1 div.sk-item::before, #sk-container-id-1 div.sk-parallel-item::before {content: \"\";position: absolute;border-left: 1px solid gray;box-sizing: border-box;top: 0;bottom: 0;left: 50%;z-index: -1;}#sk-container-id-1 div.sk-parallel-item {display: flex;flex-direction: column;z-index: 1;position: relative;background-color: white;}#sk-container-id-1 div.sk-parallel-item:first-child::after {align-self: flex-end;width: 50%;}#sk-container-id-1 div.sk-parallel-item:last-child::after {align-self: flex-start;width: 50%;}#sk-container-id-1 div.sk-parallel-item:only-child::after {width: 0;}#sk-container-id-1 div.sk-dashed-wrapped {border: 1px dashed gray;margin: 0 0.4em 0.5em 0.4em;box-sizing: border-box;padding-bottom: 0.4em;background-color: white;}#sk-container-id-1 div.sk-label label {font-family: monospace;font-weight: bold;display: inline-block;line-height: 1.2em;}#sk-container-id-1 div.sk-label-container {text-align: center;}#sk-container-id-1 div.sk-container {/* jupyter's `normalize.less` sets `[hidden] { display: none; }` but bootstrap.min.css set `[hidden] { display: none !important; }` so we also need the `!important` here to be able to override the default hidden behavior on the sphinx rendered scikit-learn.org. See: https://github.com/scikit-learn/scikit-learn/issues/21755 */display: inline-block !important;position: relative;}#sk-container-id-1 div.sk-text-repr-fallback {display: none;}</style><div id=\"sk-container-id-1\" class=\"sk-top-container\"><div class=\"sk-text-repr-fallback\"><pre>LogisticRegression(random_state=42)</pre><b>In a Jupyter environment, please rerun this cell to show the HTML representation or trust the notebook. <br />On GitHub, the HTML representation is unable to render, please try loading this page with nbviewer.org.</b></div><div class=\"sk-container\" hidden><div class=\"sk-item\"><div class=\"sk-estimator sk-toggleable\"><input class=\"sk-toggleable__control sk-hidden--visually\" id=\"sk-estimator-id-1\" type=\"checkbox\" checked><label for=\"sk-estimator-id-1\" class=\"sk-toggleable__label sk-toggleable__label-arrow\">LogisticRegression</label><div class=\"sk-toggleable__content\"><pre>LogisticRegression(random_state=42)</pre></div></div></div></div></div>"
            ]
          },
          "metadata": {},
          "execution_count": 39
        }
      ]
    },
    {
      "cell_type": "code",
      "source": [
        "print(lr.score(X_test, y_test)) "
      ],
      "metadata": {
        "colab": {
          "base_uri": "https://localhost:8080/"
        },
        "id": "vOAI507qR-iA",
        "outputId": "13b9c7b5-5b01-49bc-f7ff-9321083b12db"
      },
      "execution_count": 40,
      "outputs": [
        {
          "output_type": "stream",
          "name": "stdout",
          "text": [
            "0.23803971959139325\n"
          ]
        }
      ]
    },
    {
      "cell_type": "code",
      "source": [
        "# lr_params = {'C': [0.001, 0.01, 0.1, 1, 10, 100], \n",
        "#               'penalty': ['l1', 'l2', 'elasticnet'], \n",
        "#               'solver': ['liblinear', 'saga']}\n",
        "\n",
        "# # Create grid search object\n",
        "# grid_search = GridSearchCV(estimator=lr, param_grid=lr_params, cv=5, n_jobs=-1)\n",
        "\n"
      ],
      "metadata": {
        "id": "liPSTX25SAPm"
      },
      "execution_count": 41,
      "outputs": []
    },
    {
      "cell_type": "code",
      "source": [
        "# # Fit the grid search object to the data\n",
        "# grid_search.fit(X_train, y_train)\n",
        "\n"
      ],
      "metadata": {
        "id": "Y0CFrTRZSDKF"
      },
      "execution_count": 42,
      "outputs": []
    },
    {
      "cell_type": "code",
      "source": [
        "# # Print the best hyperparameters\n",
        "# print(\"Best hyperparameters: \", grid_search.best_params_)\n",
        "\n",
        "# # Evaluate the best model\n",
        "# y_pred = grid_search.predict(X_test)\n",
        "# accuracy = accuracy_score(y_test, y_pred)\n",
        "# print(\"Accuracy: \", accuracy)\n",
        "\n",
        "# # lr_sc = lr_grid.best_score_\n",
        "# # lr_tsc = lr_grid.score(X_test, y_test)\n",
        "\n",
        "# # print(lr_sc)\n",
        "# # print(lr_tsc)"
      ],
      "metadata": {
        "id": "8A_BbjvTSvyX"
      },
      "execution_count": 43,
      "outputs": []
    },
    {
      "cell_type": "code",
      "source": [
        "%%time\n",
        "# random Forest\n",
        "\n",
        "# Create random forest classifier object\n",
        "rfc = RandomForestClassifier(n_estimators=100, random_state=42)\n",
        "\n",
        "# Train the model on the training data\n",
        "rfc.fit(X_train, y_train)\n",
        "\n",
        "# Make predictions on the test data\n",
        "y_pred = rfc.predict(X_test)\n",
        "\n",
        "# Evaluate model performance\n",
        "print(\"Accuracy:\", accuracy_score(y_test, y_pred))\n",
        "print(\"Classification Report:\\n\", classification_report(y_test, y_pred))"
      ],
      "metadata": {
        "id": "GiCdCnNISv4t",
        "colab": {
          "base_uri": "https://localhost:8080/"
        },
        "outputId": "17fee234-fc6d-4be6-ca9b-96cf7b2082ba"
      },
      "execution_count": 44,
      "outputs": [
        {
          "output_type": "stream",
          "name": "stdout",
          "text": [
            "Accuracy: 0.9740775836835134\n",
            "Classification Report:\n",
            "               precision    recall  f1-score   support\n",
            "\n",
            "           2       1.00      1.00      1.00      8683\n",
            "           3       1.00      1.00      1.00      8732\n",
            "           4       0.90      0.94      0.92      8690\n",
            "           5       0.87      0.81      0.84      8741\n",
            "           6       0.87      0.81      0.84      8742\n",
            "           7       0.93      0.94      0.93      8855\n",
            "           8       0.95      0.96      0.96      8824\n",
            "           9       0.96      0.97      0.97      8794\n",
            "          10       0.98      0.99      0.98      8738\n",
            "          11       0.98      0.99      0.99      8676\n",
            "          12       0.99      1.00      0.99      8662\n",
            "          13       0.99      1.00      1.00      8790\n",
            "          14       0.99      1.00      0.99      8647\n",
            "          15       1.00      1.00      1.00      8815\n",
            "          16       0.99      1.00      1.00      8819\n",
            "          17       0.99      1.00      1.00      8762\n",
            "          18       1.00      1.00      1.00      8762\n",
            "          19       1.00      1.00      1.00      8792\n",
            "          20       1.00      1.00      1.00      8735\n",
            "          21       1.00      1.00      1.00      8884\n",
            "          22       1.00      1.00      1.00      8935\n",
            "          23       1.00      1.00      1.00      8715\n",
            "          25       1.00      1.00      1.00      8770\n",
            "\n",
            "    accuracy                           0.97    201563\n",
            "   macro avg       0.97      0.97      0.97    201563\n",
            "weighted avg       0.97      0.97      0.97    201563\n",
            "\n",
            "CPU times: user 4min 1s, sys: 1.62 s, total: 4min 2s\n",
            "Wall time: 4min 1s\n"
          ]
        }
      ]
    },
    {
      "cell_type": "code",
      "source": [
        "%%time\n",
        "# KNN \n",
        "# Creating a KNN classifier with k=3\n",
        "knn = KNeighborsClassifier(n_neighbors=3)\n",
        "\n",
        "# Fitting the classifier to the training data\n",
        "knn.fit(X_train, y_train)\n",
        "\n",
        "# Making predictions on the test data\n",
        "y_pred = knn.predict(X_test)\n",
        "\n",
        "# Calculating the accuracy of the model\n",
        "accuracy = accuracy_score(y_test, y_pred)\n",
        "print(\"Accuracy:\", accuracy)"
      ],
      "metadata": {
        "id": "-x-bV-RwSv_J",
        "colab": {
          "base_uri": "https://localhost:8080/"
        },
        "outputId": "2fa50c6c-034a-4283-f0e9-bf8c400f2788"
      },
      "execution_count": 45,
      "outputs": [
        {
          "output_type": "stream",
          "name": "stdout",
          "text": [
            "Accuracy: 0.9348441926345609\n",
            "CPU times: user 14min 9s, sys: 230 ms, total: 14min 9s\n",
            "Wall time: 3min 51s\n"
          ]
        }
      ]
    },
    {
      "cell_type": "code",
      "source": [
        "# pip install catboost"
      ],
      "metadata": {
        "id": "VLtAIREQHzgS"
      },
      "execution_count": 46,
      "outputs": []
    },
    {
      "cell_type": "code",
      "source": [
        "# pip install xgboost"
      ],
      "metadata": {
        "id": "SAFMmuKZIMmM"
      },
      "execution_count": 47,
      "outputs": []
    },
    {
      "cell_type": "code",
      "source": [
        "%%time\n",
        "\n",
        "\n",
        "# # create a CatBoostClassifier object\n",
        "catboost = CatBoostClassifier()\n",
        "\n",
        "# # fit the model to the training data\n",
        "catboost.fit(X_train, y_train, verbose=False)\n",
        "\n",
        "# # make predictions on the test data\n",
        "y_pred = catboost.predict(X_test)\n",
        "\n",
        "# # evaluate the model performance\n",
        "accuracy = accuracy_score(y_test, y_pred)\n",
        "print(accuracy)"
      ],
      "metadata": {
        "id": "KtJB9FYSSwF6"
      },
      "execution_count": null,
      "outputs": []
    },
    {
      "cell_type": "code",
      "source": [
        "# %%time\n",
        "# from sklearn.preprocessing import LabelEncoder\n",
        "\n",
        "# label_encoder = LabelEncoder()\n",
        "# y_encoded = label_encoder.fit_transform(y)"
      ],
      "metadata": {
        "id": "515JdxIDGbBp"
      },
      "execution_count": null,
      "outputs": []
    },
    {
      "cell_type": "markdown",
      "source": [
        "### XGBoost shows some error so comemnting it for now"
      ],
      "metadata": {
        "id": "rikdVw7a3M2S"
      }
    },
    {
      "cell_type": "code",
      "source": [
        "%%time\n",
        "# # create an XGBClassifier object\n",
        "# xgboost = XGBClassifier()\n",
        "\n",
        "# # train the model\n",
        "# xgboost.fit(X_train, y_train)\n",
        "\n",
        "# # make predictions\n",
        "# y_pred = xgboost.predict(X_test)\n",
        "\n",
        "# # evaluate the model\n",
        "# accuracy = accuracy_score(y_test, y_pred)\n",
        "\n",
        "# print(accuracy)"
      ],
      "metadata": {
        "id": "DDgVkTJqE690"
      },
      "execution_count": null,
      "outputs": []
    },
    {
      "cell_type": "code",
      "source": [],
      "metadata": {
        "id": "nLcLBtD5E71b"
      },
      "execution_count": null,
      "outputs": []
    }
  ]
}